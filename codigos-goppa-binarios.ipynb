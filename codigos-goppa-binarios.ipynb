{
 "cells": [
  {
   "cell_type": "markdown",
   "metadata": {},
   "source": [
    "Antonio Merino Gallardo"
   ]
  },
  {
   "cell_type": "markdown",
   "metadata": {},
   "source": [
    "# Códigos Goppa Binarios"
   ]
  },
  {
   "cell_type": "markdown",
   "metadata": {},
   "source": [
    "Los códigos Goppa constituyen una importante familia de códigos lineales. Nos centraremos en el caso binario."
   ]
  },
  {
   "cell_type": "markdown",
   "metadata": {},
   "source": [
    "Dado un polinomio $g(x) \\in \\mathbb{F}_{2^m}[x]$ consideramos el anillo cociente\n",
    "\n",
    "$$S_m = \\frac{\\mathbb{F}_{2^m}[x]}{\\langle G(x) \\rangle}.$$\n",
    "\n",
    "En este anillo definimos\n",
    "\n",
    "$$\\frac{1}{x-\\alpha}:=-\\frac{G(x)-G(\\alpha)}{x-\\alpha}G(\\alpha)^{-1}.$$\n",
    "\n",
    "Tomemos ahora un conjunto $L = \\{\\alpha_1,\\alpha_2,...,\\alpha_n\\} \\subseteq \\mathbb{F}_{2^m}$. Dada una palabra $a=a_1a_2\\cdots a_n \\in \\mathbb{F}_{2}^n$ definimos\n",
    "\n",
    "$$R_a(x):=\\sum_{i=1}^{n}\\frac{a_i}{x-\\alpha_i} \\in S_m.$$\n",
    "\n",
    "De este módo, el código Goppa binario $\\Gamma(L,g)$ se define como\n",
    "\n",
    "$$\\Gamma(L,g)=\\{a \\in \\mathbb{F}_{2}^n | R_a(x) \\equiv 0 \\; (mod \\; g(x))\\}.$$"
   ]
  },
  {
   "cell_type": "markdown",
   "metadata": {},
   "source": [
    "Con la clase CodigoGoppaBinario implementada, podemos construir un código Goppa binario a partir de su polinomio generador y su conjunto de definición."
   ]
  },
  {
   "cell_type": "code",
   "execution_count": 1,
   "metadata": {},
   "outputs": [],
   "source": [
    "from codigo_goppa_binario import CodigoGoppaBinario"
   ]
  },
  {
   "cell_type": "code",
   "execution_count": 2,
   "metadata": {},
   "outputs": [
    {
     "data": {
      "text/plain": [
       "[7, 4] Código Goppa Binario"
      ]
     },
     "execution_count": 2,
     "metadata": {},
     "output_type": "execute_result"
    }
   ],
   "source": [
    "F= GF(2^3)\n",
    "R.<x> = F[]\n",
    "g = x^2 + 1\n",
    "L = [a for a in F.list() if g(a) != 0]\n",
    "C = CodigoGoppaBinario(g, L)\n",
    "C"
   ]
  },
  {
   "cell_type": "markdown",
   "metadata": {},
   "source": [
    "### Matriz de paridad"
   ]
  },
  {
   "cell_type": "markdown",
   "metadata": {},
   "source": [
    "Al tratarse de códigos lineales, admiten también una matriz de paridad."
   ]
  },
  {
   "cell_type": "markdown",
   "metadata": {},
   "source": [
    "Si el polinomio generador se expresa como $g(x)=\\sum_{k=0}^{t}g_kx^k$, la matriz que buscamos es\n",
    "\n",
    "$$H = \\begin{pmatrix}\n",
    "    g_tg(\\alpha_1)^{-1} & \\dots & g_tg(\\alpha_n)^{-1}\\\\\n",
    "    (g_{t-1}+g_t\\alpha_1)g(\\alpha_1)^{-1} & \\dots & (g_{t-1}+g_t\\alpha_n)g(\\alpha_n)^{-1}\\\\\n",
    "    \\vdots & \\ddots & \\vdots\\\\\n",
    "    \\left(\\sum_{j=1}^tg_j\\alpha_1^{j-1}\\right)g(\\alpha_1)^{-1} & \\dots & \\left(\\sum_{j=1}^tg_j\\alpha_n^{j-1}\\right)g(\\alpha_n)^{-1}\\\\\n",
    "\\end{pmatrix}.$$ \n",
    "\n",
    "Esta matriz verifica que $a\\in \\Gamma(L,G)$ si, y solo si, $Ha^T=0.$ Sin embargo, no es una matriz de paridad en el sentido estricto. Por un lado, podría tener filas linealmente dependientes, que se podrían eliminar para que tuviera rango máximo. Por otro lado, sus entradas son elementos de $\\mathbb{F}_{2^m}$ y no de $\\mathbb{F}_2$. \n",
    "\n",
    "Si considermos los elementos de $\\mathbb{F}_{2^m}$ como vectores columna en $\\mathbb{F}_{2}^m$, podemos extender la matriz $H$ de dimensión $(t \\times n)$ a una matriz $H'$ de dimensión $(tm \\times n)$ con entradas en $\\mathbb{F}_2$.\n",
    "\n",
    "La matriz $H$ descrita en primer lugar es la que nos devuelve el método *matriz_paridad*, mientras que el método *matriz_paridad_extendida* nos devuelve la matriz $H'$."
   ]
  },
  {
   "cell_type": "code",
   "execution_count": 3,
   "metadata": {},
   "outputs": [
    {
     "data": {
      "text/plain": [
       "[            1            z3          z3^2 z3^2 + z3 + 1     z3^2 + z3      z3^2 + 1        z3 + 1]\n",
       "[            0          z3^2     z3^2 + z3            z3            z3     z3^2 + z3          z3^2]"
      ]
     },
     "execution_count": 3,
     "metadata": {},
     "output_type": "execute_result"
    }
   ],
   "source": [
    "C.matriz_paridad()"
   ]
  },
  {
   "cell_type": "code",
   "execution_count": 4,
   "metadata": {},
   "outputs": [
    {
     "data": {
      "text/plain": [
       "[1 0 0 1 0 1 1]\n",
       "[0 1 0 1 1 0 1]\n",
       "[0 0 1 1 1 1 0]\n",
       "[0 0 0 0 0 0 0]\n",
       "[0 0 1 1 1 1 0]\n",
       "[0 1 1 0 0 1 1]"
      ]
     },
     "execution_count": 4,
     "metadata": {},
     "output_type": "execute_result"
    }
   ],
   "source": [
    "C.matriz_paridad_extendida()"
   ]
  },
  {
   "cell_type": "markdown",
   "metadata": {},
   "source": [
    "A partir de una matriz de paridad, se puede calcular una matriz generadora teniendo en cuenta la dualidad de los códigos que generan. Esta matriz generadora la podemos obtener con el método *matriz_generadora*."
   ]
  },
  {
   "cell_type": "code",
   "execution_count": 5,
   "metadata": {},
   "outputs": [
    {
     "data": {
      "text/plain": [
       "[1 0 0 1 0 1 1]\n",
       "[0 1 0 1 0 1 0]\n",
       "[0 0 1 1 0 0 1]\n",
       "[0 0 0 0 1 1 1]"
      ]
     },
     "execution_count": 5,
     "metadata": {},
     "output_type": "execute_result"
    }
   ],
   "source": [
    "C.matriz_generadora()"
   ]
  },
  {
   "cell_type": "markdown",
   "metadata": {},
   "source": [
    "Cabe notar que en el cálculo de esta matriz sí se obtienen filas linealmente independientes, luego podemos conocer así la dimensión del código, que coincide con el número de filas de esta matriz."
   ]
  },
  {
   "cell_type": "code",
   "execution_count": 6,
   "metadata": {},
   "outputs": [
    {
     "data": {
      "text/plain": [
       "4"
      ]
     },
     "execution_count": 6,
     "metadata": {},
     "output_type": "execute_result"
    }
   ],
   "source": [
    "C.dimension()"
   ]
  },
  {
   "cell_type": "markdown",
   "metadata": {},
   "source": [
    "### Codificación y decodificación"
   ]
  },
  {
   "cell_type": "markdown",
   "metadata": {},
   "source": [
    "El proceso de codificación es sencillo, pues es el que se emplea en todo código lineal, consistente en multiplicar la palabra a codificar por la matriz generadora."
   ]
  },
  {
   "cell_type": "code",
   "execution_count": 7,
   "metadata": {},
   "outputs": [
    {
     "data": {
      "text/plain": [
       "(0, 1, 0, 1)"
      ]
     },
     "execution_count": 7,
     "metadata": {},
     "output_type": "execute_result"
    }
   ],
   "source": [
    "w = vector(GF(2), [0,1,0,1]); w"
   ]
  },
  {
   "cell_type": "code",
   "execution_count": 8,
   "metadata": {},
   "outputs": [
    {
     "data": {
      "text/plain": [
       "(0, 1, 0, 1, 1, 0, 1)"
      ]
     },
     "execution_count": 8,
     "metadata": {},
     "output_type": "execute_result"
    }
   ],
   "source": [
    "w*C.matriz_generadora()"
   ]
  },
  {
   "cell_type": "code",
   "execution_count": 9,
   "metadata": {},
   "outputs": [
    {
     "data": {
      "text/plain": [
       "(0, 1, 0, 1, 1, 0, 1)"
      ]
     },
     "execution_count": 9,
     "metadata": {},
     "output_type": "execute_result"
    }
   ],
   "source": [
    "y = C.codificar(w); y"
   ]
  },
  {
   "cell_type": "markdown",
   "metadata": {},
   "source": [
    "Por otro lado, la tarea de decodificación, entendida como encontrar la palabra código más cercana a una palabra dada, se ha implementado mediante el algoritmo de Patterson."
   ]
  },
  {
   "cell_type": "markdown",
   "metadata": {},
   "source": [
    "Definimos un patrón de error y se lo sumamos a y."
   ]
  },
  {
   "cell_type": "code",
   "execution_count": 10,
   "metadata": {},
   "outputs": [
    {
     "data": {
      "text/plain": [
       "(0, 1, 0, 0, 0, 0, 0)"
      ]
     },
     "execution_count": 10,
     "metadata": {},
     "output_type": "execute_result"
    }
   ],
   "source": [
    "e = vector(GF(2), [0,1,0,0,0,0,0]); e"
   ]
  },
  {
   "cell_type": "code",
   "execution_count": 11,
   "metadata": {},
   "outputs": [
    {
     "data": {
      "text/plain": [
       "(0, 0, 0, 1, 1, 0, 1)"
      ]
     },
     "execution_count": 11,
     "metadata": {},
     "output_type": "execute_result"
    }
   ],
   "source": [
    "y2 = y + e; y2"
   ]
  },
  {
   "cell_type": "code",
   "execution_count": 12,
   "metadata": {},
   "outputs": [
    {
     "data": {
      "text/plain": [
       "(0, 1, 0, 1, 1, 0, 1)"
      ]
     },
     "execution_count": 12,
     "metadata": {},
     "output_type": "execute_result"
    }
   ],
   "source": [
    "C.decodificar(y2)"
   ]
  },
  {
   "cell_type": "code",
   "execution_count": 13,
   "metadata": {},
   "outputs": [
    {
     "data": {
      "text/plain": [
       "True"
      ]
     },
     "execution_count": 13,
     "metadata": {},
     "output_type": "execute_result"
    }
   ],
   "source": [
    "C.decodificar(y2) == y"
   ]
  },
  {
   "cell_type": "markdown",
   "metadata": {},
   "source": [
    "### Códigos Goppa Binarios Irreducibles"
   ]
  },
  {
   "cell_type": "markdown",
   "metadata": {},
   "source": [
    "Un código Goppa Binario es irreducible cuando su polinomio generador lo es. En este caso, la distancia mínima $d$ del código verifica $d \\geq 2t+1$, donde $t$ es el grado del polinomio generador. De este modo, estos códigos son capaces de corregir al menos $t$ errores."
   ]
  },
  {
   "cell_type": "markdown",
   "metadata": {},
   "source": [
    "Construyamos entonces un código Goppa binario a partir de un polinomio irreducible de grado $4$ y veamos cómo podemos corregir 4 errores."
   ]
  },
  {
   "cell_type": "markdown",
   "metadata": {},
   "source": [
    "Definimos primero el cuerpo base del código."
   ]
  },
  {
   "cell_type": "code",
   "execution_count": 14,
   "metadata": {},
   "outputs": [],
   "source": [
    "F= GF(2^7)\n",
    "R.<x> = F[]"
   ]
  },
  {
   "cell_type": "markdown",
   "metadata": {},
   "source": [
    "Obtenemos ahora un polinomio irreducible generando aleatoriamente polinomios de grado 4."
   ]
  },
  {
   "cell_type": "code",
   "execution_count": 15,
   "metadata": {},
   "outputs": [],
   "source": [
    "set_random_seed(0)"
   ]
  },
  {
   "cell_type": "code",
   "execution_count": 16,
   "metadata": {},
   "outputs": [
    {
     "data": {
      "text/plain": [
       "x^4 + (z7^6 + z7^3 + z7)*x^3 + (z7^6 + z7^5 + z7^3 + z7^2)*x^2 + (z7^5 + z7^3 + z7 + 1)*x + z7^5 + z7^2 + z7"
      ]
     },
     "execution_count": 16,
     "metadata": {},
     "output_type": "execute_result"
    }
   ],
   "source": [
    "g = R(0)\n",
    "while not g.is_irreducible():\n",
    "    g = R.random_element(4)\n",
    "g = g/g.list()[len(g.list())-1]\n",
    "g"
   ]
  },
  {
   "cell_type": "markdown",
   "metadata": {},
   "source": [
    "Construimos ahora el código, pudiendo tomar como conjunto de definición $L = \\mathbb{F}_{2^7}$ por ser $g$ irreducible."
   ]
  },
  {
   "cell_type": "code",
   "execution_count": 17,
   "metadata": {},
   "outputs": [
    {
     "data": {
      "text/plain": [
       "[128, 100] Código Goppa Binario"
      ]
     },
     "execution_count": 17,
     "metadata": {},
     "output_type": "execute_result"
    }
   ],
   "source": [
    "L = F.list()\n",
    "C = CodigoGoppaBinario(g, L)\n",
    "C"
   ]
  },
  {
   "cell_type": "markdown",
   "metadata": {},
   "source": [
    "Podemos obtener sus matrices de paridad y generadora."
   ]
  },
  {
   "cell_type": "code",
   "execution_count": 18,
   "metadata": {},
   "outputs": [
    {
     "data": {
      "text/plain": [
       "4 x 128 dense matrix over Finite Field in z7 of size 2^7 (use the '.str()' method to see the entries)"
      ]
     },
     "execution_count": 18,
     "metadata": {},
     "output_type": "execute_result"
    }
   ],
   "source": [
    "C.matriz_paridad()"
   ]
  },
  {
   "cell_type": "code",
   "execution_count": 19,
   "metadata": {},
   "outputs": [
    {
     "data": {
      "text/plain": [
       "28 x 128 dense matrix over Finite Field of size 2 (use the '.str()' method to see the entries)"
      ]
     },
     "execution_count": 19,
     "metadata": {},
     "output_type": "execute_result"
    }
   ],
   "source": [
    "H = C.matriz_paridad_extendida(); H"
   ]
  },
  {
   "cell_type": "code",
   "execution_count": 20,
   "metadata": {},
   "outputs": [
    {
     "data": {
      "text/plain": [
       "100 x 128 dense matrix over Finite Field of size 2 (use the '.str()' method to see the entries)"
      ]
     },
     "execution_count": 20,
     "metadata": {},
     "output_type": "execute_result"
    }
   ],
   "source": [
    "G = C.matriz_generadora(); G"
   ]
  },
  {
   "cell_type": "code",
   "execution_count": 21,
   "metadata": {},
   "outputs": [
    {
     "data": {
      "text/plain": [
       "True"
      ]
     },
     "execution_count": 21,
     "metadata": {},
     "output_type": "execute_result"
    }
   ],
   "source": [
    "(G*H.transpose()).is_zero()"
   ]
  },
  {
   "cell_type": "markdown",
   "metadata": {},
   "source": [
    "Por otro lado, podemos codificar una palabra de $\\mathbb{F}_2^{100}$."
   ]
  },
  {
   "cell_type": "code",
   "execution_count": 22,
   "metadata": {},
   "outputs": [
    {
     "data": {
      "text/plain": [
       "(0, 1, 1, 1, 1, 0, 0, 1, 0, 0, 1, 0, 0, 0, 0, 1, 1, 1, 1, 0, 1, 1, 0, 0, 1, 0, 0, 0, 0, 0, 1, 1, 0, 0, 1, 1, 1, 1, 1, 1, 1, 1, 0, 0, 1, 0, 1, 1, 0, 0, 1, 0, 0, 1, 0, 1, 0, 0, 0, 1, 1, 0, 1, 1, 0, 1, 0, 0, 0, 1, 1, 1, 0, 0, 1, 0, 0, 1, 0, 1, 1, 1, 0, 1, 1, 1, 0, 0, 0, 0, 1, 1, 1, 0, 0, 1, 1, 1, 1, 0)"
      ]
     },
     "execution_count": 22,
     "metadata": {},
     "output_type": "execute_result"
    }
   ],
   "source": [
    "x = VectorSpace(GF(2), 100).random_element(); x"
   ]
  },
  {
   "cell_type": "code",
   "execution_count": 23,
   "metadata": {},
   "outputs": [
    {
     "data": {
      "text/plain": [
       "(0, 1, 1, 1, 1, 0, 0, 1, 0, 0, 1, 0, 0, 0, 0, 1, 1, 1, 1, 0, 1, 1, 0, 0, 1, 0, 0, 0, 0, 0, 1, 1, 0, 0, 1, 1, 1, 1, 1, 1, 1, 1, 0, 0, 1, 0, 1, 1, 0, 0, 1, 0, 0, 1, 0, 1, 0, 0, 0, 1, 1, 0, 1, 1, 0, 1, 0, 0, 0, 1, 1, 1, 0, 0, 1, 0, 0, 1, 0, 1, 1, 1, 0, 1, 1, 1, 0, 0, 0, 0, 1, 1, 1, 0, 0, 1, 1, 1, 1, 0, 1, 1, 1, 0, 1, 0, 0, 0, 0, 1, 0, 1, 0, 1, 1, 1, 1, 1, 1, 0, 0, 1, 0, 0, 0, 0, 0, 1)"
      ]
     },
     "execution_count": 23,
     "metadata": {},
     "output_type": "execute_result"
    }
   ],
   "source": [
    "y = C.codificar(x); y"
   ]
  },
  {
   "cell_type": "markdown",
   "metadata": {},
   "source": [
    "Definamos entonces un patrón de error de peso $4$ y veamos como la decodificación es capaz de corregir los errores."
   ]
  },
  {
   "cell_type": "code",
   "execution_count": 24,
   "metadata": {},
   "outputs": [
    {
     "data": {
      "text/plain": [
       "(0, 0, 0, 0, 1, 1, 0, 1, 0, 0, 0, 0, 0, 0, 0, 0, 0, 0, 0, 0, 0, 0, 0, 0, 0, 0, 0, 0, 0, 0, 0, 0, 0, 0, 0, 0, 0, 0, 0, 0, 0, 0, 0, 0, 0, 0, 0, 0, 0, 0, 0, 0, 0, 0, 0, 0, 0, 0, 0, 0, 0, 0, 0, 0, 0, 0, 0, 0, 0, 0, 0, 0, 0, 0, 0, 0, 0, 0, 0, 0, 0, 0, 0, 0, 0, 0, 0, 0, 0, 0, 0, 0, 0, 0, 0, 0, 0, 0, 0, 0, 1, 0, 0, 0, 0, 0, 0, 0, 0, 0, 0, 0, 0, 0, 0, 0, 0, 0, 0, 0, 0, 0, 0, 0, 0, 0, 0, 0)"
      ]
     },
     "execution_count": 24,
     "metadata": {},
     "output_type": "execute_result"
    }
   ],
   "source": [
    "e = vector(GF(2), 128*[0])\n",
    "e[4] = 1\n",
    "e[5] = 1\n",
    "e[7] = 1\n",
    "e[100] = 1\n",
    "e"
   ]
  },
  {
   "cell_type": "code",
   "execution_count": 25,
   "metadata": {},
   "outputs": [
    {
     "data": {
      "text/plain": [
       "(0, 1, 1, 1, 0, 1, 0, 0, 0, 0, 1, 0, 0, 0, 0, 1, 1, 1, 1, 0, 1, 1, 0, 0, 1, 0, 0, 0, 0, 0, 1, 1, 0, 0, 1, 1, 1, 1, 1, 1, 1, 1, 0, 0, 1, 0, 1, 1, 0, 0, 1, 0, 0, 1, 0, 1, 0, 0, 0, 1, 1, 0, 1, 1, 0, 1, 0, 0, 0, 1, 1, 1, 0, 0, 1, 0, 0, 1, 0, 1, 1, 1, 0, 1, 1, 1, 0, 0, 0, 0, 1, 1, 1, 0, 0, 1, 1, 1, 1, 0, 0, 1, 1, 0, 1, 0, 0, 0, 0, 1, 0, 1, 0, 1, 1, 1, 1, 1, 1, 0, 0, 1, 0, 0, 0, 0, 0, 1)"
      ]
     },
     "execution_count": 25,
     "metadata": {},
     "output_type": "execute_result"
    }
   ],
   "source": [
    "y2 = y + e; y2"
   ]
  },
  {
   "cell_type": "code",
   "execution_count": 26,
   "metadata": {},
   "outputs": [
    {
     "data": {
      "text/plain": [
       "(0, 1, 1, 1, 1, 0, 0, 1, 0, 0, 1, 0, 0, 0, 0, 1, 1, 1, 1, 0, 1, 1, 0, 0, 1, 0, 0, 0, 0, 0, 1, 1, 0, 0, 1, 1, 1, 1, 1, 1, 1, 1, 0, 0, 1, 0, 1, 1, 0, 0, 1, 0, 0, 1, 0, 1, 0, 0, 0, 1, 1, 0, 1, 1, 0, 1, 0, 0, 0, 1, 1, 1, 0, 0, 1, 0, 0, 1, 0, 1, 1, 1, 0, 1, 1, 1, 0, 0, 0, 0, 1, 1, 1, 0, 0, 1, 1, 1, 1, 0, 1, 1, 1, 0, 1, 0, 0, 0, 0, 1, 0, 1, 0, 1, 1, 1, 1, 1, 1, 0, 0, 1, 0, 0, 0, 0, 0, 1)"
      ]
     },
     "execution_count": 26,
     "metadata": {},
     "output_type": "execute_result"
    }
   ],
   "source": [
    "y3 = C.decodificar(y2); y3"
   ]
  },
  {
   "cell_type": "code",
   "execution_count": 27,
   "metadata": {},
   "outputs": [
    {
     "data": {
      "text/plain": [
       "True"
      ]
     },
     "execution_count": 27,
     "metadata": {},
     "output_type": "execute_result"
    }
   ],
   "source": [
    "y3 == y"
   ]
  }
 ],
 "metadata": {
  "kernelspec": {
   "display_name": "SageMath 9.4",
   "language": "sage",
   "name": "sagemath"
  },
  "language_info": {
   "codemirror_mode": {
    "name": "ipython",
    "version": 3
   },
   "file_extension": ".py",
   "mimetype": "text/x-python",
   "name": "python",
   "nbconvert_exporter": "python",
   "pygments_lexer": "ipython3",
   "version": "3.9.5"
  }
 },
 "nbformat": 4,
 "nbformat_minor": 4
}
