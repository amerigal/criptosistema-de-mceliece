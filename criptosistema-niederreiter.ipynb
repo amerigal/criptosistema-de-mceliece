{
 "cells": [
  {
   "cell_type": "markdown",
   "metadata": {},
   "source": [
    "Antonio Merino Gallardo"
   ]
  },
  {
   "cell_type": "markdown",
   "metadata": {},
   "source": [
    "# Criptosistema de Niederreiter"
   ]
  },
  {
   "cell_type": "markdown",
   "metadata": {},
   "source": [
    "Apliquemos el criptosistema de Niederreiter con la familia de códigos Goppa binarios irreducibles mostrando un ejemplo de codificación. Nos apoyaremos en la clase CodigoGoppaBinario implementada en el archivo *codigo-goppa-binario.py*."
   ]
  },
  {
   "cell_type": "markdown",
   "metadata": {},
   "source": [
    "Importamos la clase."
   ]
  },
  {
   "cell_type": "code",
   "execution_count": 1,
   "metadata": {},
   "outputs": [],
   "source": [
    "from codigo_goppa_binario import CodigoGoppaBinario"
   ]
  },
  {
   "cell_type": "markdown",
   "metadata": {},
   "source": [
    "Determinamos el grado $t$ del polinomio de Goppa y el cuerpo finito $\\mathbb{F}_{2^m}$ sobre el que trabajar."
   ]
  },
  {
   "cell_type": "code",
   "execution_count": 2,
   "metadata": {},
   "outputs": [],
   "source": [
    "t = 3\n",
    "m = 4\n",
    "n = 2^m\n",
    "F= GF(2^m)\n",
    "R.<x> = F[]"
   ]
  },
  {
   "cell_type": "markdown",
   "metadata": {},
   "source": [
    "Indicamos semilla para la reproducibilidad de los cálculos aleatorios que realizaremos."
   ]
  },
  {
   "cell_type": "code",
   "execution_count": 3,
   "metadata": {},
   "outputs": [],
   "source": [
    "set_random_seed(0)"
   ]
  },
  {
   "cell_type": "markdown",
   "metadata": {},
   "source": [
    "Generamos aleatoriamente un polinomio irreducible de grado $t$ sobre $\\mathbb{F}_{2^m}$ que será el polinomio de Goppa $g$."
   ]
  },
  {
   "cell_type": "code",
   "execution_count": 4,
   "metadata": {},
   "outputs": [
    {
     "data": {
      "text/plain": [
       "x^3 + (z4^3 + 1)*x^2 + (z4^3 + 1)*x + z4^3 + z4^2 + z4 + 1"
      ]
     },
     "execution_count": 4,
     "metadata": {},
     "output_type": "execute_result"
    }
   ],
   "source": [
    "g = R(0)\n",
    "while not g.is_irreducible():\n",
    "    g = R.random_element(t)\n",
    "g = g/g.list()[len(g.list())-1]\n",
    "g"
   ]
  },
  {
   "cell_type": "markdown",
   "metadata": {},
   "source": [
    "Tomamos como conjunto de definición $L=\\mathbb{F}_{2^m}$ y construimos el código Goppa binario irreducible."
   ]
  },
  {
   "cell_type": "code",
   "execution_count": 5,
   "metadata": {},
   "outputs": [
    {
     "data": {
      "text/plain": [
       "[16, 4] Código Goppa Binario"
      ]
     },
     "execution_count": 5,
     "metadata": {},
     "output_type": "execute_result"
    }
   ],
   "source": [
    "L = F.list()\n",
    "C = CodigoGoppaBinario(g, L)\n",
    "C"
   ]
  },
  {
   "cell_type": "markdown",
   "metadata": {},
   "source": [
    "Tomamos $H$ una matriz de paridad del código."
   ]
  },
  {
   "cell_type": "code",
   "execution_count": 6,
   "metadata": {
    "scrolled": true
   },
   "outputs": [
    {
     "data": {
      "text/plain": [
       "[0 1 0 0 0 0 0 1 0 1 0 0 1 0 1 1]\n",
       "[0 0 1 1 1 1 0 0 0 0 1 1 1 0 0 1]\n",
       "[0 1 0 1 1 1 0 0 0 0 1 0 1 1 0 0]\n",
       "[1 1 0 0 1 0 1 1 1 0 0 1 1 0 1 0]\n",
       "[0 0 1 0 0 0 0 1 0 1 0 1 0 1 0 1]\n",
       "[0 1 0 1 1 0 1 0 1 1 1 1 0 1 0 1]\n",
       "[1 1 0 1 1 1 1 0 0 0 0 0 1 0 0 0]\n",
       "[0 0 1 0 0 0 1 0 1 0 0 0 0 0 0 1]\n",
       "[0 1 1 0 1 0 0 0 0 0 1 0 1 0 1 1]\n",
       "[0 1 1 1 0 0 0 1 0 0 0 0 1 1 0 1]\n",
       "[1 0 0 1 1 0 0 1 0 1 1 1 1 1 1 0]\n",
       "[0 0 0 0 1 1 0 0 0 0 1 0 0 0 1 0]"
      ]
     },
     "execution_count": 6,
     "metadata": {},
     "output_type": "execute_result"
    }
   ],
   "source": [
    "H = C.matriz_paridad_extendida(); H"
   ]
  },
  {
   "cell_type": "markdown",
   "metadata": {},
   "source": [
    "Llamamos $k$ a la dimensión del código."
   ]
  },
  {
   "cell_type": "code",
   "execution_count": 7,
   "metadata": {},
   "outputs": [
    {
     "data": {
      "text/plain": [
       "4"
      ]
     },
     "execution_count": 7,
     "metadata": {},
     "output_type": "execute_result"
    }
   ],
   "source": [
    "k = C.dimension(); k"
   ]
  },
  {
   "cell_type": "markdown",
   "metadata": {},
   "source": [
    "Generamos $M$ una matriz regular aleatoria de dimensión $(n-k) \\times (n-k)$."
   ]
  },
  {
   "cell_type": "code",
   "execution_count": 8,
   "metadata": {},
   "outputs": [
    {
     "data": {
      "text/plain": [
       "[1 0 1 1 0 0 0 1 0 1 0 0]\n",
       "[1 1 1 0 0 1 1 0 0 1 1 1]\n",
       "[1 0 0 0 0 0 1 1 1 1 1 0]\n",
       "[1 1 0 1 0 1 0 1 1 1 0 0]\n",
       "[0 1 1 1 1 1 0 1 1 0 0 1]\n",
       "[0 1 1 0 0 1 0 0 0 0 0 1]\n",
       "[0 0 0 1 0 1 1 1 0 0 0 0]\n",
       "[1 0 0 0 1 0 1 0 0 0 0 1]\n",
       "[1 1 1 0 1 0 1 0 0 0 1 1]\n",
       "[1 1 0 0 1 0 1 0 0 1 0 0]\n",
       "[0 1 1 0 0 1 0 0 0 1 1 0]\n",
       "[1 1 0 0 0 0 1 1 0 1 1 1]"
      ]
     },
     "execution_count": 8,
     "metadata": {},
     "output_type": "execute_result"
    }
   ],
   "source": [
    "M = random_matrix(GF(2), n-k)\n",
    "while M.is_singular():\n",
    "    M = random_matrix(GF(2), n-k)\n",
    "M"
   ]
  },
  {
   "cell_type": "markdown",
   "metadata": {},
   "source": [
    "Generamos $P$ una matriz de permutaciones aleatoria de dimensión $n \\times n$."
   ]
  },
  {
   "cell_type": "code",
   "execution_count": 9,
   "metadata": {},
   "outputs": [
    {
     "data": {
      "text/plain": [
       "[1 0 0 0 0 0 0 0 0 0 0 0 0 0 0 0]\n",
       "[0 0 0 0 0 0 0 1 0 0 0 0 0 0 0 0]\n",
       "[0 0 0 0 1 0 0 0 0 0 0 0 0 0 0 0]\n",
       "[0 0 0 0 0 0 0 0 0 1 0 0 0 0 0 0]\n",
       "[0 0 0 0 0 0 0 0 0 0 1 0 0 0 0 0]\n",
       "[0 1 0 0 0 0 0 0 0 0 0 0 0 0 0 0]\n",
       "[0 0 0 0 0 0 0 0 0 0 0 0 0 0 1 0]\n",
       "[0 0 0 0 0 0 0 0 0 0 0 0 1 0 0 0]\n",
       "[0 0 0 1 0 0 0 0 0 0 0 0 0 0 0 0]\n",
       "[0 0 0 0 0 0 1 0 0 0 0 0 0 0 0 0]\n",
       "[0 0 0 0 0 0 0 0 0 0 0 0 0 0 0 1]\n",
       "[0 0 0 0 0 0 0 0 1 0 0 0 0 0 0 0]\n",
       "[0 0 1 0 0 0 0 0 0 0 0 0 0 0 0 0]\n",
       "[0 0 0 0 0 1 0 0 0 0 0 0 0 0 0 0]\n",
       "[0 0 0 0 0 0 0 0 0 0 0 0 0 1 0 0]\n",
       "[0 0 0 0 0 0 0 0 0 0 0 1 0 0 0 0]"
      ]
     },
     "execution_count": 9,
     "metadata": {},
     "output_type": "execute_result"
    }
   ],
   "source": [
    "P = Permutations(n).random_element().to_matrix()\n",
    "P = matrix(GF(2), P)\n",
    "P"
   ]
  },
  {
   "cell_type": "markdown",
   "metadata": {},
   "source": [
    "Construimos la matriz de paridad $H_2=MHP$, que constituirá la clave pública junto con el valor *t*."
   ]
  },
  {
   "cell_type": "code",
   "execution_count": 10,
   "metadata": {},
   "outputs": [
    {
     "data": {
      "text/plain": [
       "[1 1 0 0 0 0 1 0 1 0 0 1 1 0 0 1]\n",
       "[0 0 0 1 0 0 1 1 1 0 0 0 1 1 0 1]\n",
       "[0 1 1 1 1 0 0 0 1 1 1 0 1 1 0 0]\n",
       "[1 1 1 1 0 0 0 1 1 1 0 0 1 1 1 1]\n",
       "[1 1 0 1 0 1 0 0 0 1 0 1 0 1 1 1]\n",
       "[0 1 0 1 1 0 1 0 0 1 0 0 0 1 1 0]\n",
       "[0 1 0 1 1 1 1 1 0 0 1 0 1 1 0 1]\n",
       "[1 0 0 0 1 1 0 0 1 1 0 0 0 0 1 1]\n",
       "[0 0 1 0 0 1 1 1 1 0 1 1 1 1 1 0]\n",
       "[1 0 0 0 1 0 0 1 0 1 0 0 1 1 1 1]\n",
       "[1 0 0 1 0 0 0 1 1 1 0 1 0 1 1 0]\n",
       "[0 1 1 1 1 0 0 1 0 0 0 0 1 1 0 1]"
      ]
     },
     "execution_count": 10,
     "metadata": {},
     "output_type": "execute_result"
    }
   ],
   "source": [
    "H2=M*H*P; H2"
   ]
  },
  {
   "cell_type": "markdown",
   "metadata": {},
   "source": [
    "### Cifrado"
   ]
  },
  {
   "cell_type": "markdown",
   "metadata": {},
   "source": [
    "Generemos una palabra aleatoria $u \\in \\mathbb{F}_{2}^{n}$ de peso t para cifrarla."
   ]
  },
  {
   "cell_type": "code",
   "execution_count": 11,
   "metadata": {},
   "outputs": [
    {
     "data": {
      "text/plain": [
       "[0, 3, 6]"
      ]
     },
     "execution_count": 11,
     "metadata": {},
     "output_type": "execute_result"
    }
   ],
   "source": [
    "posiciones = Combinations(range(n),t).random_element(); posiciones"
   ]
  },
  {
   "cell_type": "code",
   "execution_count": 12,
   "metadata": {},
   "outputs": [
    {
     "data": {
      "text/plain": [
       "(1, 0, 0, 1, 0, 0, 1, 0, 0, 0, 0, 0, 0, 0, 0, 0)"
      ]
     },
     "execution_count": 12,
     "metadata": {},
     "output_type": "execute_result"
    }
   ],
   "source": [
    "u = vector(GF(2), n*[0])\n",
    "for pos in posiciones:\n",
    "    u[pos]=1\n",
    "u"
   ]
  },
  {
   "cell_type": "markdown",
   "metadata": {},
   "source": [
    "Ciframos $u$ multiplicando por la matriz de paridad $H_2$."
   ]
  },
  {
   "cell_type": "code",
   "execution_count": 13,
   "metadata": {},
   "outputs": [
    {
     "data": {
      "text/plain": [
       "(0, 0, 1, 0, 0, 0, 0, 1, 1, 1, 0, 1)"
      ]
     },
     "execution_count": 13,
     "metadata": {},
     "output_type": "execute_result"
    }
   ],
   "source": [
    "x = H2*u; x"
   ]
  },
  {
   "cell_type": "markdown",
   "metadata": {},
   "source": [
    "### Descifrado"
   ]
  },
  {
   "cell_type": "markdown",
   "metadata": {},
   "source": [
    "Procedamos ahora a descifrar la palabra $x \\in \\mathbb{F}_{2}^{n-k}$."
   ]
  },
  {
   "cell_type": "markdown",
   "metadata": {},
   "source": [
    "Deshacemos el cambio de base generado por $M$."
   ]
  },
  {
   "cell_type": "code",
   "execution_count": 14,
   "metadata": {},
   "outputs": [
    {
     "data": {
      "text/plain": [
       "(1, 0, 0, 0, 1, 0, 1, 1, 0, 0, 0, 0)"
      ]
     },
     "execution_count": 14,
     "metadata": {},
     "output_type": "execute_result"
    }
   ],
   "source": [
    "x2 = M.inverse()*x; x2"
   ]
  },
  {
   "cell_type": "markdown",
   "metadata": {},
   "source": [
    "Aplicamos la decodificación por síndrome basada en el algoritmo de Patterson para corregir los $t$ errores."
   ]
  },
  {
   "cell_type": "code",
   "execution_count": 15,
   "metadata": {
    "scrolled": true
   },
   "outputs": [
    {
     "data": {
      "text/plain": [
       "(1, 0, 0, 0, 0, 0, 0, 0, 1, 1, 0, 0, 0, 0, 0, 0)"
      ]
     },
     "execution_count": 15,
     "metadata": {},
     "output_type": "execute_result"
    }
   ],
   "source": [
    "x3 = C.decodificar_por_sindrome(x2); x3"
   ]
  },
  {
   "cell_type": "markdown",
   "metadata": {},
   "source": [
    "Finalmente, deshacemos la permutación de columnas."
   ]
  },
  {
   "cell_type": "code",
   "execution_count": 16,
   "metadata": {
    "scrolled": true
   },
   "outputs": [
    {
     "data": {
      "text/plain": [
       "(1, 0, 0, 1, 0, 0, 1, 0, 0, 0, 0, 0, 0, 0, 0, 0)"
      ]
     },
     "execution_count": 16,
     "metadata": {},
     "output_type": "execute_result"
    }
   ],
   "source": [
    "u2 = P.inverse()*x3; u2"
   ]
  },
  {
   "cell_type": "markdown",
   "metadata": {},
   "source": [
    "Comprobamos que hemos descifrado correctamente."
   ]
  },
  {
   "cell_type": "code",
   "execution_count": 17,
   "metadata": {},
   "outputs": [
    {
     "data": {
      "text/plain": [
       "True"
      ]
     },
     "execution_count": 17,
     "metadata": {},
     "output_type": "execute_result"
    }
   ],
   "source": [
    "u2 == u"
   ]
  }
 ],
 "metadata": {
  "kernelspec": {
   "display_name": "SageMath 9.4",
   "language": "sage",
   "name": "sagemath"
  },
  "language_info": {
   "codemirror_mode": {
    "name": "ipython",
    "version": 3
   },
   "file_extension": ".py",
   "mimetype": "text/x-python",
   "name": "python",
   "nbconvert_exporter": "python",
   "pygments_lexer": "ipython3",
   "version": "3.9.5"
  }
 },
 "nbformat": 4,
 "nbformat_minor": 4
}
