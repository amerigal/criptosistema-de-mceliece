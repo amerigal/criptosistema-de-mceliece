{
 "cells": [
  {
   "cell_type": "markdown",
   "metadata": {},
   "source": [
    "Antonio Merino Gallardo"
   ]
  },
  {
   "cell_type": "markdown",
   "metadata": {},
   "source": [
    "# Códigos Lineales"
   ]
  },
  {
   "cell_type": "markdown",
   "metadata": {},
   "source": [
    "Fijado $\\mathbb{F}_q$ un cuerpo finito, un $[n,k]_q$-código lineal es un subespacio vectorial de $\\mathbb{F}_q^n$ de dimensión $k$ a cuyos elementos llamaremos palabras código y que tienen longitud $n$. La idea será codificar palabras de longitud $k$, esto es, elementos de $\\mathbb{F}_q^k$, en palabras de un $[n,k]$-código lineal $\\mathcal{C}$."
   ]
  },
  {
   "cell_type": "markdown",
   "metadata": {},
   "source": [
    "### Matriz Generadora"
   ]
  },
  {
   "cell_type": "markdown",
   "metadata": {},
   "source": [
    "La aplicación lineal que realiza la codificación $\\mathbb{F}_q^k \\to \\mathcal{C} \\subseteq \\mathbb{F}_q^n$ se representará por una matriz $k \\times n$ de rango $k$ llamada matriz generadora."
   ]
  },
  {
   "cell_type": "markdown",
   "metadata": {},
   "source": [
    "En este sentido, podemos definir un código lineal a partir de su matriz generadora."
   ]
  },
  {
   "cell_type": "code",
   "execution_count": 1,
   "metadata": {},
   "outputs": [],
   "source": [
    "F = GF(2)\n",
    "M = matrix(F, [[1, 1, 0, 1, 0, 0],\\\n",
    "               [1, 0, 0, 0, 1, 1],\\\n",
    "               [0, 1, 1, 0, 1, 0],\\\n",
    "               [0, 0, 1, 0, 1, 1]])\n",
    "C = codes.LinearCode(M)"
   ]
  },
  {
   "cell_type": "code",
   "execution_count": 2,
   "metadata": {},
   "outputs": [
    {
     "data": {
      "text/plain": [
       "[6, 4] linear code over GF(2)"
      ]
     },
     "execution_count": 2,
     "metadata": {},
     "output_type": "execute_result"
    }
   ],
   "source": [
    "C"
   ]
  },
  {
   "cell_type": "code",
   "execution_count": 3,
   "metadata": {},
   "outputs": [
    {
     "data": {
      "text/plain": [
       "[1 1 0 1 0 0]\n",
       "[1 0 0 0 1 1]\n",
       "[0 1 1 0 1 0]\n",
       "[0 0 1 0 1 1]"
      ]
     },
     "execution_count": 3,
     "metadata": {},
     "output_type": "execute_result"
    }
   ],
   "source": [
    "C.generator_matrix()"
   ]
  },
  {
   "cell_type": "code",
   "execution_count": 4,
   "metadata": {},
   "outputs": [
    {
     "data": {
      "text/plain": [
       "True"
      ]
     },
     "execution_count": 4,
     "metadata": {},
     "output_type": "execute_result"
    }
   ],
   "source": [
    "C.generator_matrix() == M"
   ]
  },
  {
   "cell_type": "markdown",
   "metadata": {},
   "source": [
    "Las filas de la matriz generadora $M$ pueden verse como los elementos de una base de $\\mathcal{C}$, por ser $M$ de rango máximo."
   ]
  },
  {
   "cell_type": "code",
   "execution_count": 5,
   "metadata": {},
   "outputs": [
    {
     "data": {
      "text/plain": [
       "[\n",
       "(1, 1, 0, 1, 0, 0),\n",
       "(1, 0, 0, 0, 1, 1),\n",
       "(0, 1, 1, 0, 1, 0),\n",
       "(0, 0, 1, 0, 1, 1)\n",
       "]"
      ]
     },
     "execution_count": 5,
     "metadata": {},
     "output_type": "execute_result"
    }
   ],
   "source": [
    "C.basis()"
   ]
  },
  {
   "cell_type": "markdown",
   "metadata": {},
   "source": [
    "Cabe notar que está permitido proporcionar al constructor de un código lineal una matriz de dimensión $k\\times n$  con rango menor que $k$. En este caso, dicha matriz es transformada automáticamente a una escalonada por filas reducida, eliminándose las filas nulas para que tenga rango máximo."
   ]
  },
  {
   "cell_type": "code",
   "execution_count": 6,
   "metadata": {},
   "outputs": [
    {
     "data": {
      "text/plain": [
       "4"
      ]
     },
     "execution_count": 6,
     "metadata": {},
     "output_type": "execute_result"
    }
   ],
   "source": [
    "M2 = matrix(F, [[1, 1, 0, 1, 0, 0],\\\n",
    "               [1, 0, 0, 0, 1, 1],\\\n",
    "               [0, 1, 1, 0, 1, 0],\\\n",
    "               [0, 0, 1, 0, 1, 1],\\\n",
    "               [1, 0, 1, 0, 0, 0]])\n",
    "rank(M2)"
   ]
  },
  {
   "cell_type": "code",
   "execution_count": 7,
   "metadata": {},
   "outputs": [
    {
     "data": {
      "text/plain": [
       "[6, 4] linear code over GF(2)"
      ]
     },
     "execution_count": 7,
     "metadata": {},
     "output_type": "execute_result"
    }
   ],
   "source": [
    "C2 = codes.LinearCode(M2); C2"
   ]
  },
  {
   "cell_type": "code",
   "execution_count": 8,
   "metadata": {
    "scrolled": false
   },
   "outputs": [
    {
     "data": {
      "text/plain": [
       "[1 0 0 0 1 1]\n",
       "[0 1 0 0 0 1]\n",
       "[0 0 1 0 1 1]\n",
       "[0 0 0 1 1 0]"
      ]
     },
     "execution_count": 8,
     "metadata": {},
     "output_type": "execute_result"
    }
   ],
   "source": [
    "C2.generator_matrix()"
   ]
  },
  {
   "cell_type": "markdown",
   "metadata": {},
   "source": [
    "Vemos como efectivamente coincide con la que se obtiene al reducir M2 y eliminar filas nulas."
   ]
  },
  {
   "cell_type": "code",
   "execution_count": 9,
   "metadata": {},
   "outputs": [
    {
     "data": {
      "text/plain": [
       "[1 0 0 0 1 1]\n",
       "[0 1 0 0 0 1]\n",
       "[0 0 1 0 1 1]\n",
       "[0 0 0 1 1 0]\n",
       "[0 0 0 0 0 0]"
      ]
     },
     "execution_count": 9,
     "metadata": {},
     "output_type": "execute_result"
    }
   ],
   "source": [
    "M2.rref()"
   ]
  },
  {
   "cell_type": "markdown",
   "metadata": {},
   "source": [
    "### Códigos equivalentes"
   ]
  },
  {
   "cell_type": "markdown",
   "metadata": {},
   "source": [
    "Se dice que dos $[n,k]_q$-códigos lineales $\\mathcal{C}_1$ y $\\mathcal{C}_2$ son equivalentes si $\\mathcal{C}_2$ se obtiene a partir de $\\mathcal{C}_1$ aplicando una permutación fija a todas sus palabras código. En este sentido, si se intercambian columnas de la matriz generadora, el código resultante generado es equivalente al inicial. Además, si se realizan operaciones por filas a la matriz generadora solo se está cambiando la base del código considerado, pero el código visto como subespacio vectorial sigue siendo el mismo."
   ]
  },
  {
   "cell_type": "markdown",
   "metadata": {},
   "source": [
    "Por lo tanto, los códigos generados por dos matrices son equivalentes si, y solo si, una se puede obtener a partir de la otra mediante operaciones por filas e intercambio de columnas."
   ]
  },
  {
   "cell_type": "code",
   "execution_count": 10,
   "metadata": {},
   "outputs": [
    {
     "data": {
      "text/plain": [
       "[6, 4] linear code over GF(7)"
      ]
     },
     "execution_count": 10,
     "metadata": {},
     "output_type": "execute_result"
    }
   ],
   "source": [
    "M1 = matrix(GF(7), [[3, 1, 0, 1, 0, 6],\\\n",
    "                    [1, 0, 2, 3, 0, 4],\\\n",
    "                    [0, 1, 4, 0, 1, 0],\\\n",
    "                    [0, 3, 4, 0, 5, 3]])\n",
    "C1 = codes.LinearCode(M1)\n",
    "C1 #"
   ]
  },
  {
   "cell_type": "code",
   "execution_count": 11,
   "metadata": {
    "scrolled": true
   },
   "outputs": [
    {
     "data": {
      "text/plain": [
       "[1 0 0 0 0 0]\n",
       "[0 1 0 0 0 0]\n",
       "[0 0 0 0 1 0]\n",
       "[0 0 0 1 0 0]\n",
       "[0 0 1 0 0 0]\n",
       "[0 0 0 0 0 1]"
      ]
     },
     "execution_count": 11,
     "metadata": {},
     "output_type": "execute_result"
    }
   ],
   "source": [
    "I1 = elementary_matrix(GF(7),6,col1=2,col2=4); I1 #Intercambia columnas 2 y 4"
   ]
  },
  {
   "cell_type": "code",
   "execution_count": 12,
   "metadata": {},
   "outputs": [
    {
     "data": {
      "text/plain": [
       "[1 0 0 0]\n",
       "[0 1 0 3]\n",
       "[0 0 1 0]\n",
       "[0 0 0 1]"
      ]
     },
     "execution_count": 12,
     "metadata": {},
     "output_type": "execute_result"
    }
   ],
   "source": [
    "I2 = elementary_matrix(GF(7),4,row1=1,row2=3,scale=3); I2 #Fila1 = Fila1 + 3*Fila3"
   ]
  },
  {
   "cell_type": "code",
   "execution_count": 13,
   "metadata": {},
   "outputs": [
    {
     "data": {
      "text/plain": [
       "[3 1 0 1 0 6]\n",
       "[1 2 1 3 0 6]\n",
       "[0 1 1 0 4 0]\n",
       "[0 3 5 0 4 3]"
      ]
     },
     "execution_count": 13,
     "metadata": {},
     "output_type": "execute_result"
    }
   ],
   "source": [
    "M2 = I2*M1*I1; M2"
   ]
  },
  {
   "cell_type": "code",
   "execution_count": 14,
   "metadata": {},
   "outputs": [
    {
     "data": {
      "text/plain": [
       "[6, 4] linear code over GF(7)"
      ]
     },
     "execution_count": 14,
     "metadata": {},
     "output_type": "execute_result"
    }
   ],
   "source": [
    "C2 = codes.LinearCode(M2); C2"
   ]
  },
  {
   "cell_type": "code",
   "execution_count": 15,
   "metadata": {},
   "outputs": [
    {
     "data": {
      "text/plain": [
       "True"
      ]
     },
     "execution_count": 15,
     "metadata": {},
     "output_type": "execute_result"
    }
   ],
   "source": [
    "C2.is_permutation_equivalent(C1)"
   ]
  },
  {
   "cell_type": "markdown",
   "metadata": {},
   "source": [
    "### Códigos Sistemáticos"
   ]
  },
  {
   "cell_type": "markdown",
   "metadata": {},
   "source": [
    "Un $[n,k]_q$-código lineal es sistemático si admite una matriz generadora de la forma $\\left(Id_k \\, \\middle\\vert \\,  A\\right)$ con $A \\in M_{k \\times (n-k)}(\\mathbb{F}_q)$."
   ]
  },
  {
   "cell_type": "markdown",
   "metadata": {},
   "source": [
    "Un resultado importante es que todo código lineal es equivalente a uno sistemático. En este sentido, todo $[n,k]_q$-código lineal admite una matriz de la forma $\\left(Id_k \\, \\middle\\vert \\,  A\\right)$ con $A \\in M_{k \\times (n-k)}(\\mathbb{F}_q)$ salvo la permutación de sus columnas. Es esta matriz la que sage permite obtener con el método *systematic_generator_matrix*."
   ]
  },
  {
   "cell_type": "code",
   "execution_count": 16,
   "metadata": {
    "scrolled": false
   },
   "outputs": [
    {
     "data": {
      "text/plain": [
       "[1 1 0 0 0 1]\n",
       "[0 0 1 0 0 1]\n",
       "[0 0 0 1 0 1]\n",
       "[0 0 0 0 1 0]"
      ]
     },
     "execution_count": 16,
     "metadata": {},
     "output_type": "execute_result"
    }
   ],
   "source": [
    "M = matrix(GF(2), [[1, 1, 0, 1, 0, 0],\\\n",
    "               [1, 1, 1, 0, 0, 0],\\\n",
    "               [0, 0, 0, 0, 1, 0],\\\n",
    "               [0, 0, 1, 0, 0, 1]])\n",
    "C = codes.LinearCode(M)\n",
    "C.systematic_generator_matrix()"
   ]
  },
  {
   "cell_type": "markdown",
   "metadata": {},
   "source": [
    "Podemos obtener el código sistemático equivalente a $\\mathcal{C}$ mediante el método *standard_form*, que además nos devuelve la reordenación apropiada de las posiciones de las columnas para obtenerlo."
   ]
  },
  {
   "cell_type": "code",
   "execution_count": 17,
   "metadata": {},
   "outputs": [
    {
     "data": {
      "text/plain": [
       "([6, 4] linear code over GF(2), [1, 3, 4, 5, 2, 6])"
      ]
     },
     "execution_count": 17,
     "metadata": {},
     "output_type": "execute_result"
    }
   ],
   "source": [
    "Cs = C.standard_form(); Cs"
   ]
  },
  {
   "cell_type": "code",
   "execution_count": 18,
   "metadata": {
    "scrolled": true
   },
   "outputs": [
    {
     "data": {
      "text/plain": [
       "[1 0 0 0 1 1]\n",
       "[0 1 0 0 0 1]\n",
       "[0 0 1 0 0 1]\n",
       "[0 0 0 1 0 0]"
      ]
     },
     "execution_count": 18,
     "metadata": {},
     "output_type": "execute_result"
    }
   ],
   "source": [
    "Cs[0].systematic_generator_matrix()"
   ]
  },
  {
   "cell_type": "code",
   "execution_count": 19,
   "metadata": {},
   "outputs": [
    {
     "data": {
      "text/plain": [
       "True"
      ]
     },
     "execution_count": 19,
     "metadata": {},
     "output_type": "execute_result"
    }
   ],
   "source": [
    "Cs[0].is_permutation_equivalent(C)"
   ]
  },
  {
   "cell_type": "markdown",
   "metadata": {},
   "source": [
    "### Código dual y matriz de paridad"
   ]
  },
  {
   "cell_type": "markdown",
   "metadata": {},
   "source": [
    "Un $[n,k]_q$-código lineal $\\mathcal{C}$ puede también representarse a partir de su complemento ortogonal $\\mathcal{C}^\\perp$ en $\\mathbb{F}_q^n$:\n",
    "$$\\mathcal{C}^\\perp:= \\{y \\in \\mathbb{F}_q^n \\; | \\; \\langle x,y \\rangle = 0 \\; \\forall x \\in \\mathcal{C}\\}.$$\n",
    "Al tratarse de un subespacio vectorial de dimensión $(n-k)$, se tiene que $\\mathcal{C}^\\perp$ es un $[n,n-k]_q$-código lineal, denominado el código dual de $\\mathcal{C}$. A las matrices generadoras de $\\mathcal{C}^\\perp$ se las conoce como matrices de paridad de $\\mathcal{C}$."
   ]
  },
  {
   "cell_type": "code",
   "execution_count": 20,
   "metadata": {},
   "outputs": [
    {
     "data": {
      "text/plain": [
       "[6, 4] linear code over GF(2)"
      ]
     },
     "execution_count": 20,
     "metadata": {},
     "output_type": "execute_result"
    }
   ],
   "source": [
    "M = matrix(GF(2), [[1, 1, 0, 1, 0, 0],\\\n",
    "               [1, 0, 0, 0, 1, 1],\\\n",
    "               [0, 1, 1, 0, 1, 0],\\\n",
    "               [0, 0, 1, 0, 1, 1]])\n",
    "\n",
    "C = codes.LinearCode(M); C"
   ]
  },
  {
   "cell_type": "code",
   "execution_count": 21,
   "metadata": {},
   "outputs": [
    {
     "data": {
      "text/plain": [
       "[6, 2] linear code over GF(2)"
      ]
     },
     "execution_count": 21,
     "metadata": {},
     "output_type": "execute_result"
    }
   ],
   "source": [
    "Cd = C.dual_code(); Cd"
   ]
  },
  {
   "cell_type": "code",
   "execution_count": 22,
   "metadata": {},
   "outputs": [
    {
     "data": {
      "text/plain": [
       "[1 0 1 1 1 0]\n",
       "[0 1 0 1 1 1]"
      ]
     },
     "execution_count": 22,
     "metadata": {},
     "output_type": "execute_result"
    }
   ],
   "source": [
    "C.parity_check_matrix()"
   ]
  },
  {
   "cell_type": "code",
   "execution_count": 23,
   "metadata": {},
   "outputs": [
    {
     "data": {
      "text/plain": [
       "[1 0 1 1 1 0]\n",
       "[0 1 0 1 1 1]"
      ]
     },
     "execution_count": 23,
     "metadata": {},
     "output_type": "execute_result"
    }
   ],
   "source": [
    "Cd.generator_matrix()"
   ]
  },
  {
   "cell_type": "markdown",
   "metadata": {},
   "source": [
    "### Distancia de Hamming"
   ]
  },
  {
   "cell_type": "markdown",
   "metadata": {},
   "source": [
    "Al espacio vectorial $\\mathbb{F}_q^n$ se le dota de una estructura de espacio métrico con la distancia de Hamming, que cuenta el número de posiciones en que dos palabras difieren. Esta distancia está directamente relacionada con el peso de Hamming de una palabra, que es el número de posiciones no nulas que contiene.\n",
    "\n",
    "La importancia de dicha distancia es que para decodificar una palabra recibida $x \\in \\mathbb{F}_q^n$ se busca aquella palabra código $c \\in \\mathcal{C}$ que esté a menor distancia de $x$."
   ]
  },
  {
   "cell_type": "markdown",
   "metadata": {},
   "source": [
    "Dado un $[n,k]_q$-código lineal, podemos obtener su distribución de pesos, esto es, una lista $A_0,A_1,...,A_n$ donde $A_i$ es el número de palabras código de peso $i$."
   ]
  },
  {
   "cell_type": "code",
   "execution_count": 24,
   "metadata": {},
   "outputs": [
    {
     "data": {
      "text/plain": [
       "[8, 4] linear code over GF(2)"
      ]
     },
     "execution_count": 24,
     "metadata": {},
     "output_type": "execute_result"
    }
   ],
   "source": [
    "M = matrix(GF(2), [[1, 1, 0, 1, 0, 1, 1, 0],\\\n",
    "               [1, 1, 1, 0, 0, 0, 0, 0],\\\n",
    "               [0, 0, 0, 0, 1, 0, 0, 1],\\\n",
    "               [0, 0, 1, 0, 0, 1, 1, 1]])\n",
    "C = codes.LinearCode(M); C"
   ]
  },
  {
   "cell_type": "code",
   "execution_count": 25,
   "metadata": {
    "scrolled": true
   },
   "outputs": [
    {
     "data": {
      "text/plain": [
       "[1, 0, 3, 1, 3, 6, 1, 1, 0]"
      ]
     },
     "execution_count": 25,
     "metadata": {},
     "output_type": "execute_result"
    }
   ],
   "source": [
    "C.weight_distribution()"
   ]
  },
  {
   "cell_type": "code",
   "execution_count": 26,
   "metadata": {},
   "outputs": [
    {
     "data": {
      "text/plain": [
       "[5, 2] linear code over GF(5)"
      ]
     },
     "execution_count": 26,
     "metadata": {},
     "output_type": "execute_result"
    }
   ],
   "source": [
    "M = matrix(GF(5), [[1, 1, 0, 1, 0],\\\n",
    "               [1, 0, 0, 1, 1]])\n",
    "C = codes.LinearCode(M); C"
   ]
  },
  {
   "cell_type": "code",
   "execution_count": 27,
   "metadata": {},
   "outputs": [
    {
     "data": {
      "text/plain": [
       "[1, 0, 4, 8, 12, 0]"
      ]
     },
     "execution_count": 27,
     "metadata": {},
     "output_type": "execute_result"
    }
   ],
   "source": [
    "C.weight_distribution()"
   ]
  },
  {
   "cell_type": "markdown",
   "metadata": {},
   "source": [
    "Una de los aspectos más importantes de un código lineal es su distancia mínima, esto es, la distancia mínima que hay entre cualesquiera dos palabras suyas. Por tratarse de un código lineal, esta coincide con el peso mínimo de su palabras no nulas."
   ]
  },
  {
   "cell_type": "code",
   "execution_count": 28,
   "metadata": {},
   "outputs": [
    {
     "data": {
      "text/plain": [
       "[7, 4] linear code over GF(2)"
      ]
     },
     "execution_count": 28,
     "metadata": {},
     "output_type": "execute_result"
    }
   ],
   "source": [
    "M = matrix(GF(2), [[1, 1, 0, 1, 0, 1, 1],\\\n",
    "               [1, 1, 1, 0, 0, 0, 0],\\\n",
    "               [0, 0, 1, 0, 1, 0, 0],\\\n",
    "               [1, 0, 1, 0, 0, 1, 1]])\n",
    "C = codes.LinearCode(M); C"
   ]
  },
  {
   "cell_type": "code",
   "execution_count": 29,
   "metadata": {},
   "outputs": [
    {
     "data": {
      "text/plain": [
       "2"
      ]
     },
     "execution_count": 29,
     "metadata": {},
     "output_type": "execute_result"
    }
   ],
   "source": [
    "C.minimum_distance()"
   ]
  },
  {
   "cell_type": "code",
   "execution_count": 30,
   "metadata": {},
   "outputs": [
    {
     "data": {
      "text/plain": [
       "[1, 0, 2, 5, 5, 2, 0, 1]"
      ]
     },
     "execution_count": 30,
     "metadata": {},
     "output_type": "execute_result"
    }
   ],
   "source": [
    "C.weight_distribution()"
   ]
  },
  {
   "cell_type": "code",
   "execution_count": 31,
   "metadata": {},
   "outputs": [
    {
     "data": {
      "text/plain": [
       "[7, 3] linear code over GF(11)"
      ]
     },
     "execution_count": 31,
     "metadata": {},
     "output_type": "execute_result"
    }
   ],
   "source": [
    "M = matrix(GF(11), [[2, 1, 0, 1, 0, 10, 0],\\\n",
    "               [3, 1, 1, 4, 0, 0, 0],\\\n",
    "               [0, 0, 7, 0, 1, 0, 5]])\n",
    "C = codes.LinearCode(M); C"
   ]
  },
  {
   "cell_type": "code",
   "execution_count": 32,
   "metadata": {},
   "outputs": [
    {
     "data": {
      "text/plain": [
       "3"
      ]
     },
     "execution_count": 32,
     "metadata": {},
     "output_type": "execute_result"
    }
   ],
   "source": [
    "C.minimum_distance()"
   ]
  },
  {
   "cell_type": "code",
   "execution_count": 33,
   "metadata": {},
   "outputs": [
    {
     "data": {
      "text/plain": [
       "[1, 0, 0, 10, 50, 110, 430, 730]"
      ]
     },
     "execution_count": 33,
     "metadata": {},
     "output_type": "execute_result"
    }
   ],
   "source": [
    "C.weight_distribution()"
   ]
  },
  {
   "cell_type": "markdown",
   "metadata": {},
   "source": [
    "### Codificación"
   ]
  },
  {
   "cell_type": "markdown",
   "metadata": {},
   "source": [
    "Sea $\\mathcal{C}$ un $[n,k]_q$-código lineal $C$ con matriz generadora $M$. La matriz $M$ representa la codificación en el sentido de que para cifrar una palabra $x \\in \\mathbb{F}_q^k$ bastará con multiplicarla por $M$."
   ]
  },
  {
   "cell_type": "code",
   "execution_count": 2,
   "metadata": {},
   "outputs": [
    {
     "data": {
      "text/plain": [
       "[6, 4] linear code over GF(2)"
      ]
     },
     "execution_count": 2,
     "metadata": {},
     "output_type": "execute_result"
    }
   ],
   "source": [
    "M = matrix(GF(2), [[1, 1, 0, 1, 0, 0],\\\n",
    "               [1, 0, 0, 0, 1, 1],\\\n",
    "               [0, 1, 1, 0, 1, 0],\\\n",
    "               [0, 0, 1, 0, 1, 1]])\n",
    "C = codes.LinearCode(M); C"
   ]
  },
  {
   "cell_type": "code",
   "execution_count": 3,
   "metadata": {},
   "outputs": [
    {
     "data": {
      "text/plain": [
       "True"
      ]
     },
     "execution_count": 3,
     "metadata": {},
     "output_type": "execute_result"
    }
   ],
   "source": [
    "M == C.generator_matrix()"
   ]
  },
  {
   "cell_type": "code",
   "execution_count": 4,
   "metadata": {},
   "outputs": [
    {
     "data": {
      "text/plain": [
       "(0, 1, 0, 1)"
      ]
     },
     "execution_count": 4,
     "metadata": {},
     "output_type": "execute_result"
    }
   ],
   "source": [
    "x = vector(GF(2), [0, 1, 0, 1]); x"
   ]
  },
  {
   "cell_type": "code",
   "execution_count": 5,
   "metadata": {},
   "outputs": [
    {
     "data": {
      "text/plain": [
       "(1, 0, 1, 0, 0, 0)"
      ]
     },
     "execution_count": 5,
     "metadata": {},
     "output_type": "execute_result"
    }
   ],
   "source": [
    "x*M"
   ]
  },
  {
   "cell_type": "markdown",
   "metadata": {},
   "source": [
    "Alternativamente, podemos aplicar el método *encode* que el código lineal incorpora por defecto."
   ]
  },
  {
   "cell_type": "code",
   "execution_count": 6,
   "metadata": {},
   "outputs": [
    {
     "data": {
      "text/plain": [
       "(1, 0, 1, 0, 0, 0)"
      ]
     },
     "execution_count": 6,
     "metadata": {},
     "output_type": "execute_result"
    }
   ],
   "source": [
    "C.encode(x)"
   ]
  },
  {
   "cell_type": "markdown",
   "metadata": {},
   "source": [
    "También tenemos la opción de construir un codificador a partir del código."
   ]
  },
  {
   "cell_type": "code",
   "execution_count": 39,
   "metadata": {},
   "outputs": [
    {
     "data": {
      "text/plain": [
       "Generator matrix-based encoder for [6, 4] linear code over GF(2)"
      ]
     },
     "execution_count": 39,
     "metadata": {},
     "output_type": "execute_result"
    }
   ],
   "source": [
    "E = codes.encoders.LinearCodeGeneratorMatrixEncoder(C); E"
   ]
  },
  {
   "cell_type": "code",
   "execution_count": 40,
   "metadata": {},
   "outputs": [
    {
     "data": {
      "text/plain": [
       "[1 1 0 1 0 0]\n",
       "[1 0 0 0 1 1]\n",
       "[0 1 1 0 1 0]\n",
       "[0 0 1 0 1 1]"
      ]
     },
     "execution_count": 40,
     "metadata": {},
     "output_type": "execute_result"
    }
   ],
   "source": [
    "E.generator_matrix()"
   ]
  },
  {
   "cell_type": "code",
   "execution_count": 41,
   "metadata": {},
   "outputs": [
    {
     "data": {
      "text/plain": [
       "(1, 0, 1, 0, 0, 0)"
      ]
     },
     "execution_count": 41,
     "metadata": {},
     "output_type": "execute_result"
    }
   ],
   "source": [
    "E.encode(x)"
   ]
  },
  {
   "cell_type": "markdown",
   "metadata": {},
   "source": [
    "### Decodificación"
   ]
  },
  {
   "cell_type": "markdown",
   "metadata": {},
   "source": [
    "La tarea de decodificación consiste en partir de una palabra recibida $w \\in \\mathbb{F}_q^n$ y buscar la palabra código $c \\in \\mathcal{C} \\subseteq \\mathbb{F}_q^n$ tal que la distancia entre $w$ y $c$ sea mínima."
   ]
  },
  {
   "cell_type": "code",
   "execution_count": 42,
   "metadata": {},
   "outputs": [
    {
     "data": {
      "text/plain": [
       "[8, 3] linear code over GF(2)"
      ]
     },
     "execution_count": 42,
     "metadata": {},
     "output_type": "execute_result"
    }
   ],
   "source": [
    "M = matrix(GF(2), [[1, 1, 0, 0, 0, 0, 0, 1],\\\n",
    "               [0, 0, 1, 1, 0, 0, 1, 0],\\\n",
    "               [0, 0, 0, 0, 1, 1, 0, 1]])\n",
    "C = codes.LinearCode(M); C"
   ]
  },
  {
   "cell_type": "code",
   "execution_count": 43,
   "metadata": {},
   "outputs": [
    {
     "data": {
      "text/plain": [
       "(1, 0, 0, 1, 1, 0, 0, 1)"
      ]
     },
     "execution_count": 43,
     "metadata": {},
     "output_type": "execute_result"
    }
   ],
   "source": [
    "w = VectorSpace(GF(2), 8)([1,0,0,1,1,0,0,1]); w"
   ]
  },
  {
   "cell_type": "code",
   "execution_count": 44,
   "metadata": {},
   "outputs": [
    {
     "data": {
      "text/plain": [
       "False"
      ]
     },
     "execution_count": 44,
     "metadata": {},
     "output_type": "execute_result"
    }
   ],
   "source": [
    "w in C"
   ]
  },
  {
   "cell_type": "code",
   "execution_count": 45,
   "metadata": {},
   "outputs": [
    {
     "data": {
      "text/plain": [
       "(0, 0, 0, 0, 1, 1, 0, 1)"
      ]
     },
     "execution_count": 45,
     "metadata": {},
     "output_type": "execute_result"
    }
   ],
   "source": [
    "c = C.decode_to_code(w); c"
   ]
  },
  {
   "cell_type": "code",
   "execution_count": 46,
   "metadata": {},
   "outputs": [
    {
     "data": {
      "text/plain": [
       "True"
      ]
     },
     "execution_count": 46,
     "metadata": {},
     "output_type": "execute_result"
    }
   ],
   "source": [
    "c in C"
   ]
  },
  {
   "cell_type": "markdown",
   "metadata": {},
   "source": [
    "Alternativamente, podemos construir un decodificador a partir del código $\\mathcal{C}$."
   ]
  },
  {
   "cell_type": "code",
   "execution_count": 47,
   "metadata": {},
   "outputs": [
    {
     "data": {
      "text/plain": [
       "Nearest neighbor decoder for [8, 3] linear code over GF(2)"
      ]
     },
     "execution_count": 47,
     "metadata": {},
     "output_type": "execute_result"
    }
   ],
   "source": [
    "D = codes.decoders.LinearCodeNearestNeighborDecoder(C); D"
   ]
  },
  {
   "cell_type": "code",
   "execution_count": 48,
   "metadata": {},
   "outputs": [
    {
     "data": {
      "text/plain": [
       "(1, 1, 0, 0, 0, 0, 0, 1)"
      ]
     },
     "execution_count": 48,
     "metadata": {},
     "output_type": "execute_result"
    }
   ],
   "source": [
    "D.decode_to_code(w)"
   ]
  },
  {
   "cell_type": "markdown",
   "metadata": {},
   "source": [
    "Al descifrar, tratamos de *corregir* los errores que se han producido en la transmisión de una palabra código, obteniendo así la palabra código original como la más cercana a la que tenemos. En este sentido, una propiedad importante en un código es el número de errores que puede corregir correctamente. Este número es el que nos proporciona el método *decoding_radius* del descifrador."
   ]
  },
  {
   "cell_type": "code",
   "execution_count": 49,
   "metadata": {},
   "outputs": [
    {
     "data": {
      "text/plain": [
       "1"
      ]
     },
     "execution_count": 49,
     "metadata": {},
     "output_type": "execute_result"
    }
   ],
   "source": [
    "D.decoding_radius()"
   ]
  },
  {
   "cell_type": "markdown",
   "metadata": {},
   "source": [
    "De hecho, sabemos que dicho número se puede obtener directamente a partir de la distancia mínima $d$ del código como $\\left[\\frac{d-1}{2}\\right]$, con $[\\cdot]$ representando la parte entera."
   ]
  },
  {
   "cell_type": "code",
   "execution_count": 50,
   "metadata": {},
   "outputs": [
    {
     "data": {
      "text/plain": [
       "3"
      ]
     },
     "execution_count": 50,
     "metadata": {},
     "output_type": "execute_result"
    }
   ],
   "source": [
    "C.minimum_distance()"
   ]
  },
  {
   "cell_type": "markdown",
   "metadata": {},
   "source": [
    "En este caso, como su capacidad de corrección de errores es $1$, significa que si modificamos en una sola posición una palabra código, el decodificador será capaz de calcular la palabra código original. Sin embargo, si modificamos más posiciones, no está garantizado que el decodificador nos devuelva la palabra código de la que partimos, pues podría haber otra a menor distancia."
   ]
  },
  {
   "cell_type": "code",
   "execution_count": 51,
   "metadata": {},
   "outputs": [
    {
     "data": {
      "text/plain": [
       "(1, 1, 0)"
      ]
     },
     "execution_count": 51,
     "metadata": {},
     "output_type": "execute_result"
    }
   ],
   "source": [
    "x = vector(GF(2),[1,1,0]); x"
   ]
  },
  {
   "cell_type": "code",
   "execution_count": 52,
   "metadata": {},
   "outputs": [
    {
     "data": {
      "text/plain": [
       "(1, 1, 1, 1, 0, 0, 1, 1)"
      ]
     },
     "execution_count": 52,
     "metadata": {},
     "output_type": "execute_result"
    }
   ],
   "source": [
    "c = C.encode(x); c"
   ]
  },
  {
   "cell_type": "code",
   "execution_count": 53,
   "metadata": {},
   "outputs": [
    {
     "data": {
      "text/plain": [
       "(1, 1, 0, 1, 0, 0, 1, 1)"
      ]
     },
     "execution_count": 53,
     "metadata": {},
     "output_type": "execute_result"
    }
   ],
   "source": [
    "w = copy(c)\n",
    "w[2] = 0 # Modificamos una posición de c\n",
    "w"
   ]
  },
  {
   "cell_type": "code",
   "execution_count": 54,
   "metadata": {},
   "outputs": [
    {
     "data": {
      "text/plain": [
       "(1, 1, 1, 1, 0, 0, 1, 1)"
      ]
     },
     "execution_count": 54,
     "metadata": {},
     "output_type": "execute_result"
    }
   ],
   "source": [
    "c2 = D.decode_to_code(w); c2"
   ]
  },
  {
   "cell_type": "code",
   "execution_count": 55,
   "metadata": {},
   "outputs": [
    {
     "data": {
      "text/plain": [
       "True"
      ]
     },
     "execution_count": 55,
     "metadata": {},
     "output_type": "execute_result"
    }
   ],
   "source": [
    "c2 == c"
   ]
  },
  {
   "cell_type": "code",
   "execution_count": 56,
   "metadata": {},
   "outputs": [
    {
     "data": {
      "text/plain": [
       "(1, 1, 0, 0, 0, 0, 1, 1)"
      ]
     },
     "execution_count": 56,
     "metadata": {},
     "output_type": "execute_result"
    }
   ],
   "source": [
    "w2 = copy(c)\n",
    "w2[2]=0; w2[3]=0 # Modificamos dos posiciones de c\n",
    "w2"
   ]
  },
  {
   "cell_type": "code",
   "execution_count": 57,
   "metadata": {},
   "outputs": [
    {
     "data": {
      "text/plain": [
       "(1, 1, 0, 0, 0, 0, 0, 1)"
      ]
     },
     "execution_count": 57,
     "metadata": {},
     "output_type": "execute_result"
    }
   ],
   "source": [
    "c3 = D.decode_to_code(w2); c3"
   ]
  },
  {
   "cell_type": "code",
   "execution_count": 58,
   "metadata": {},
   "outputs": [
    {
     "data": {
      "text/plain": [
       "False"
      ]
     },
     "execution_count": 58,
     "metadata": {},
     "output_type": "execute_result"
    }
   ],
   "source": [
    "c3 == c"
   ]
  },
  {
   "cell_type": "markdown",
   "metadata": {},
   "source": [
    "También tenemos a nuestra disposición otro decodificador, pero que se basa en el cálculo de los síndromes.\n",
    "\n",
    "El síndrome de una palabra es el resultado de multiplicar la matriz de paridad del código por la palabra. Las palabras código tienen síndrome 0."
   ]
  },
  {
   "cell_type": "code",
   "execution_count": 59,
   "metadata": {},
   "outputs": [
    {
     "data": {
      "text/plain": [
       "[1 0 0 0 0 1 0 1]\n",
       "[0 1 0 0 0 1 0 1]\n",
       "[0 0 1 0 0 0 1 0]\n",
       "[0 0 0 1 0 0 1 0]\n",
       "[0 0 0 0 1 1 0 0]"
      ]
     },
     "execution_count": 59,
     "metadata": {},
     "output_type": "execute_result"
    }
   ],
   "source": [
    "H = C.parity_check_matrix(); H"
   ]
  },
  {
   "cell_type": "code",
   "execution_count": 60,
   "metadata": {},
   "outputs": [
    {
     "data": {
      "text/plain": [
       "(1, 0, 0, 0, 1, 0, 1, 0)"
      ]
     },
     "execution_count": 60,
     "metadata": {},
     "output_type": "execute_result"
    }
   ],
   "source": [
    "r = vector(GF(2), (1,0,0,0,1,0,1,0)); r"
   ]
  },
  {
   "cell_type": "code",
   "execution_count": 61,
   "metadata": {},
   "outputs": [
    {
     "data": {
      "text/plain": [
       "False"
      ]
     },
     "execution_count": 61,
     "metadata": {},
     "output_type": "execute_result"
    }
   ],
   "source": [
    "r in C"
   ]
  },
  {
   "cell_type": "code",
   "execution_count": 62,
   "metadata": {},
   "outputs": [
    {
     "data": {
      "text/plain": [
       "(1, 0, 1, 1, 1)"
      ]
     },
     "execution_count": 62,
     "metadata": {},
     "output_type": "execute_result"
    }
   ],
   "source": [
    "H*r"
   ]
  },
  {
   "cell_type": "code",
   "execution_count": 63,
   "metadata": {},
   "outputs": [
    {
     "data": {
      "text/plain": [
       "(1, 0, 1, 1, 1)"
      ]
     },
     "execution_count": 63,
     "metadata": {},
     "output_type": "execute_result"
    }
   ],
   "source": [
    "C.syndrome(r)"
   ]
  },
  {
   "cell_type": "code",
   "execution_count": 64,
   "metadata": {},
   "outputs": [
    {
     "data": {
      "text/plain": [
       "(1, 1, 1, 1, 1, 1, 1, 0)"
      ]
     },
     "execution_count": 64,
     "metadata": {},
     "output_type": "execute_result"
    }
   ],
   "source": [
    "r2 = vector(GF(2), (1,1,1,1,1,1,1,0)); r2"
   ]
  },
  {
   "cell_type": "code",
   "execution_count": 65,
   "metadata": {},
   "outputs": [
    {
     "data": {
      "text/plain": [
       "True"
      ]
     },
     "execution_count": 65,
     "metadata": {},
     "output_type": "execute_result"
    }
   ],
   "source": [
    "r2 in C"
   ]
  },
  {
   "cell_type": "code",
   "execution_count": 66,
   "metadata": {},
   "outputs": [
    {
     "data": {
      "text/plain": [
       "(0, 0, 0, 0, 0)"
      ]
     },
     "execution_count": 66,
     "metadata": {},
     "output_type": "execute_result"
    }
   ],
   "source": [
    "H*r2"
   ]
  },
  {
   "cell_type": "code",
   "execution_count": 67,
   "metadata": {},
   "outputs": [
    {
     "data": {
      "text/plain": [
       "(0, 0, 0, 0, 0)"
      ]
     },
     "execution_count": 67,
     "metadata": {},
     "output_type": "execute_result"
    }
   ],
   "source": [
    "C.syndrome(r2)"
   ]
  },
  {
   "cell_type": "markdown",
   "metadata": {},
   "source": [
    "El concepto de síndrome da pié a la decodificación por síndrome. Esta se basa en calcular el síndrome de la palabra $x$ a decodificar y considerar que el patrón de error $e$ que ha ocurrido es el de menor peso cuyo síndrome coincide con el de $x$. A partir de $e$, la palabra original se calcula restando $e$ a $x$."
   ]
  },
  {
   "cell_type": "markdown",
   "metadata": {},
   "source": [
    "En este sentido, podemos tomar un decodificador que tenga dicho comportamiento. Este construirá primero la tabla de síndromes (con los distintos síndromes y el patrón de error de menor peso asociado) lo que tarda un tiempo exponencial en la longitud del código y el tamaño del cuerpo base del código. Sin embargo, después las decodificaciones individuales son rápidas."
   ]
  },
  {
   "cell_type": "code",
   "execution_count": 68,
   "metadata": {},
   "outputs": [
    {
     "data": {
      "text/plain": [
       "Syndrome decoder for [8, 3] linear code over GF(2) handling errors of weight up to 3"
      ]
     },
     "execution_count": 68,
     "metadata": {},
     "output_type": "execute_result"
    }
   ],
   "source": [
    "D = codes.decoders.LinearCodeSyndromeDecoder(C); D"
   ]
  },
  {
   "cell_type": "code",
   "execution_count": 69,
   "metadata": {},
   "outputs": [
    {
     "data": {
      "text/plain": [
       "3"
      ]
     },
     "execution_count": 69,
     "metadata": {},
     "output_type": "execute_result"
    }
   ],
   "source": [
    "D.maximum_error_weight()"
   ]
  },
  {
   "cell_type": "code",
   "execution_count": 70,
   "metadata": {},
   "outputs": [
    {
     "data": {
      "text/plain": [
       "{(0, 0, 0, 0, 0): (0, 0, 0, 0, 0, 0, 0, 0),\n",
       " (1, 0, 0, 0, 0): (1, 0, 0, 0, 0, 0, 0, 0),\n",
       " (0, 1, 0, 0, 0): (0, 1, 0, 0, 0, 0, 0, 0),\n",
       " (0, 0, 1, 0, 0): (0, 0, 1, 0, 0, 0, 0, 0),\n",
       " (0, 0, 0, 1, 0): (0, 0, 0, 1, 0, 0, 0, 0),\n",
       " (0, 0, 0, 0, 1): (0, 0, 0, 0, 1, 0, 0, 0),\n",
       " (1, 1, 0, 0, 1): (0, 0, 0, 0, 0, 1, 0, 0),\n",
       " (0, 0, 1, 1, 0): (0, 0, 0, 0, 0, 0, 1, 0),\n",
       " (1, 1, 0, 0, 0): (0, 0, 0, 0, 0, 0, 0, 1),\n",
       " (1, 0, 1, 0, 0): (1, 0, 1, 0, 0, 0, 0, 0),\n",
       " (1, 0, 0, 1, 0): (1, 0, 0, 1, 0, 0, 0, 0),\n",
       " (1, 0, 0, 0, 1): (1, 0, 0, 0, 1, 0, 0, 0),\n",
       " (0, 1, 0, 0, 1): (1, 0, 0, 0, 0, 1, 0, 0),\n",
       " (1, 0, 1, 1, 0): (1, 0, 0, 0, 0, 0, 1, 0),\n",
       " (0, 1, 1, 0, 0): (0, 1, 1, 0, 0, 0, 0, 0),\n",
       " (0, 1, 0, 1, 0): (0, 1, 0, 1, 0, 0, 0, 0),\n",
       " (0, 1, 1, 1, 0): (0, 1, 0, 0, 0, 0, 1, 0),\n",
       " (0, 0, 1, 0, 1): (0, 0, 1, 0, 1, 0, 0, 0),\n",
       " (1, 1, 1, 0, 1): (0, 0, 1, 0, 0, 1, 0, 0),\n",
       " (1, 1, 1, 0, 0): (0, 0, 1, 0, 0, 0, 0, 1),\n",
       " (0, 0, 0, 1, 1): (0, 0, 0, 1, 1, 0, 0, 0),\n",
       " (1, 1, 0, 1, 1): (0, 0, 0, 1, 0, 1, 0, 0),\n",
       " (1, 1, 0, 1, 0): (0, 0, 0, 1, 0, 0, 0, 1),\n",
       " (0, 0, 1, 1, 1): (0, 0, 0, 0, 1, 0, 1, 0),\n",
       " (1, 1, 1, 1, 1): (0, 0, 0, 0, 0, 1, 1, 0),\n",
       " (1, 1, 1, 1, 0): (0, 0, 0, 0, 0, 0, 1, 1),\n",
       " (1, 0, 1, 0, 1): (1, 0, 1, 0, 1, 0, 0, 0),\n",
       " (0, 1, 1, 0, 1): (1, 0, 1, 0, 0, 1, 0, 0),\n",
       " (1, 0, 0, 1, 1): (1, 0, 0, 1, 1, 0, 0, 0),\n",
       " (0, 1, 0, 1, 1): (1, 0, 0, 1, 0, 1, 0, 0),\n",
       " (1, 0, 1, 1, 1): (1, 0, 0, 0, 1, 0, 1, 0),\n",
       " (0, 1, 1, 1, 1): (1, 0, 0, 0, 0, 1, 1, 0)}"
      ]
     },
     "execution_count": 70,
     "metadata": {},
     "output_type": "execute_result"
    }
   ],
   "source": [
    "D.syndrome_table()"
   ]
  },
  {
   "cell_type": "code",
   "execution_count": 71,
   "metadata": {},
   "outputs": [
    {
     "data": {
      "text/plain": [
       "(1, 0, 0, 0, 1, 0, 1, 0)"
      ]
     },
     "execution_count": 71,
     "metadata": {},
     "output_type": "execute_result"
    }
   ],
   "source": [
    "r = vector(GF(2), (1,0,0,0,1,0,1,0)); r"
   ]
  },
  {
   "cell_type": "code",
   "execution_count": 72,
   "metadata": {},
   "outputs": [
    {
     "data": {
      "text/plain": [
       "(1, 0, 1, 1, 1)"
      ]
     },
     "execution_count": 72,
     "metadata": {},
     "output_type": "execute_result"
    }
   ],
   "source": [
    "C.syndrome(r)"
   ]
  },
  {
   "cell_type": "code",
   "execution_count": 73,
   "metadata": {},
   "outputs": [
    {
     "data": {
      "text/plain": [
       "(0, 0, 0, 0, 0, 0, 0, 0)"
      ]
     },
     "execution_count": 73,
     "metadata": {},
     "output_type": "execute_result"
    }
   ],
   "source": [
    "D.decode_to_code(r)"
   ]
  },
  {
   "cell_type": "markdown",
   "metadata": {},
   "source": [
    "Para la realización de este cuaderno se ha hecho uso de la documentación de SageMath sobre teoría de códigos accesible en:\n",
    "\n",
    "https://doc.sagemath.org/html/en/reference/coding/sage/coding."
   ]
  }
 ],
 "metadata": {
  "kernelspec": {
   "display_name": "SageMath 9.4",
   "language": "sage",
   "name": "sagemath"
  },
  "language_info": {
   "codemirror_mode": {
    "name": "ipython",
    "version": 3
   },
   "file_extension": ".py",
   "mimetype": "text/x-python",
   "name": "python",
   "nbconvert_exporter": "python",
   "pygments_lexer": "ipython3",
   "version": "3.9.5"
  }
 },
 "nbformat": 4,
 "nbformat_minor": 4
}
