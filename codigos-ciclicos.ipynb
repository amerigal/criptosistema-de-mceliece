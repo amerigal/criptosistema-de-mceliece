{
 "cells": [
  {
   "cell_type": "markdown",
   "metadata": {},
   "source": [
    "Antonio Merino Gallardo"
   ]
  },
  {
   "cell_type": "markdown",
   "metadata": {},
   "source": [
    "# Códigos Cíclicos"
   ]
  },
  {
   "cell_type": "markdown",
   "metadata": {},
   "source": [
    "Fijado $\\mathbb{F}_q$ un cuerpo finito, un $[n,k]_q$-código cíclico $\\mathcal{C}$ es un $[n,k]_q$-código lineal en el que todo desplazamiento cíclico de una palabra código es una palabra código, esto es, si $c_0c_1 \\cdots c_{n-1} \\in \\mathcal{C}$, entonces $c_{n-1}c_0c_1 \\cdots c_{n-2} \\in \\mathcal{C}$. \n",
    "\n",
    "Cabe notar que consideraremos siempre $n$ y $q$ tales que $(n,q)=1$, pues en caso contrario se obtiene una familia de códigos cíclicos más complejos que la librería de códigos cíclicos de SageMath no soporta."
   ]
  },
  {
   "cell_type": "markdown",
   "metadata": {},
   "source": [
    "El trabajo con códigos cíclicos se suele realizar representando las palabras en $\\mathbb{F}_q^n$ como polinomios en $R_n = \\frac{\\mathbb{F}_q[x]}{\\langle x^n-1\\rangle}$ mediante el isomorfismo:\n",
    "$$c_0c_1\\cdots c_{n-1} \\mapsto c_0 + c_1x + \\cdots + c_{n-1}x^{n-1}.$$"
   ]
  },
  {
   "cell_type": "markdown",
   "metadata": {},
   "source": [
    "En este sentido, consideraremos ahora también los códigos como subconjuntos de $R_n$, siendo los códigos cíclicos exactamente los ideales de $R_n$."
   ]
  },
  {
   "cell_type": "markdown",
   "metadata": {},
   "source": [
    "### Polinomio generador"
   ]
  },
  {
   "cell_type": "markdown",
   "metadata": {},
   "source": [
    "El anillo $R_n$ es un DIP, de modo que todo código cíclico podrá ser generado por un único polinomio. De entre los múltiples polinomios que pueden generar un código cíclico dado, resaltamos el llamado **polinomio generador**, que es el único polinomio mónico de menor grado que está en el código. Dicho polinomio generador es un divisor del polinomio $x^n-1$. De hecho, existe una biyección entre los divisores mónicos de $x^n-1$ y los códigos cíclicos de $R_n$."
   ]
  },
  {
   "cell_type": "markdown",
   "metadata": {},
   "source": [
    "De este modo, podemos construir un código cíclico a partir de su polinomio generador. Debemos proporcionarle al constructor un polinomio mónico divisor de $x^n-1$ así como el valor de $n$. La dimensión del código cíclico resultante será $n$ menos el grado del polinomio generador."
   ]
  },
  {
   "cell_type": "code",
   "execution_count": 1,
   "metadata": {},
   "outputs": [],
   "source": [
    "n = 3\n",
    "F.<x> = GF(2)[]\n",
    "g = x+1"
   ]
  },
  {
   "cell_type": "code",
   "execution_count": 2,
   "metadata": {},
   "outputs": [
    {
     "data": {
      "text/plain": [
       "True"
      ]
     },
     "execution_count": 2,
     "metadata": {},
     "output_type": "execute_result"
    }
   ],
   "source": [
    "g.divides(x^n-1)"
   ]
  },
  {
   "cell_type": "code",
   "execution_count": 3,
   "metadata": {},
   "outputs": [
    {
     "data": {
      "text/plain": [
       "[3, 2] Cyclic Code over GF(2)"
      ]
     },
     "execution_count": 3,
     "metadata": {},
     "output_type": "execute_result"
    }
   ],
   "source": [
    "C = codes.CyclicCode(generator_pol=g, length=n)\n",
    "C"
   ]
  },
  {
   "cell_type": "code",
   "execution_count": 4,
   "metadata": {},
   "outputs": [
    {
     "data": {
      "text/plain": [
       "x + 1"
      ]
     },
     "execution_count": 4,
     "metadata": {},
     "output_type": "execute_result"
    }
   ],
   "source": [
    "C.generator_polynomial()"
   ]
  },
  {
   "cell_type": "markdown",
   "metadata": {},
   "source": [
    "Podemos observar como, efectivamente, el código $\\mathcal{C}$ es cerrado para desplazamientos cíclicos de sus palabras."
   ]
  },
  {
   "cell_type": "code",
   "execution_count": 5,
   "metadata": {},
   "outputs": [
    {
     "data": {
      "text/plain": [
       "[(0, 0, 0), (1, 1, 0), (0, 1, 1), (1, 0, 1)]"
      ]
     },
     "execution_count": 5,
     "metadata": {},
     "output_type": "execute_result"
    }
   ],
   "source": [
    "list(C)"
   ]
  },
  {
   "cell_type": "markdown",
   "metadata": {},
   "source": [
    "Además, vemos como cualquiera de los tres polinomios no nulos genera todo el código, de modo que el polinomio generador no es el único que lo genera."
   ]
  },
  {
   "cell_type": "code",
   "execution_count": 6,
   "metadata": {},
   "outputs": [
    {
     "data": {
      "text/plain": [
       "[0, x + 1, x^2 + x, x^2 + 1]"
      ]
     },
     "execution_count": 6,
     "metadata": {},
     "output_type": "execute_result"
    }
   ],
   "source": [
    "list(p*(x+1)%(x^n-1) for p in [0,1,x,x+1])"
   ]
  },
  {
   "cell_type": "code",
   "execution_count": 7,
   "metadata": {},
   "outputs": [
    {
     "data": {
      "text/plain": [
       "[0, x^2 + x, x^2 + 1, x + 1]"
      ]
     },
     "execution_count": 7,
     "metadata": {},
     "output_type": "execute_result"
    }
   ],
   "source": [
    "list(p*(x^2+x)%(x^n-1) for p in [0,1,x,x+1])"
   ]
  },
  {
   "cell_type": "code",
   "execution_count": 8,
   "metadata": {},
   "outputs": [
    {
     "data": {
      "text/plain": [
       "[0, x^2 + 1, x + 1, x^2 + x]"
      ]
     },
     "execution_count": 8,
     "metadata": {},
     "output_type": "execute_result"
    }
   ],
   "source": [
    "list(p*(x^2+1)%(x^n-1) for p in [0,1,x,x+1])"
   ]
  },
  {
   "cell_type": "markdown",
   "metadata": {},
   "source": [
    "A partir de los divisores de $x^n-1$ podemos construir todos los códigos cíclicos sobre $R_n$."
   ]
  },
  {
   "cell_type": "code",
   "execution_count": 9,
   "metadata": {},
   "outputs": [
    {
     "name": "stdout",
     "output_type": "stream",
     "text": [
      "([4, 4] Cyclic Code over GF(3), 1)\n",
      "([4, 3] Cyclic Code over GF(3), x + 1)\n",
      "([4, 3] Cyclic Code over GF(3), x + 2)\n",
      "([4, 2] Cyclic Code over GF(3), x^2 + 1)\n",
      "([4, 2] Cyclic Code over GF(3), x^2 + 2)\n",
      "([4, 1] Cyclic Code over GF(3), x^3 + x^2 + x + 1)\n",
      "([4, 1] Cyclic Code over GF(3), x^3 + 2*x^2 + x + 2)\n",
      "([4, 0] Cyclic Code over GF(3), x^4 + 2)\n"
     ]
    }
   ],
   "source": [
    "n = 4\n",
    "F.<x> = GF(3)[]\n",
    "\n",
    "for factor in divisors(x^n-1):\n",
    "    C = codes.CyclicCode(generator_pol=factor, length=n)\n",
    "    print((C, C.generator_polynomial()))"
   ]
  },
  {
   "cell_type": "markdown",
   "metadata": {},
   "source": [
    "Otra alternativa para construir un código cíclico consiste en proporcionarle al constructor un código lineal que sepamos que es cíclico."
   ]
  },
  {
   "cell_type": "markdown",
   "metadata": {},
   "source": [
    "Para comprobar si un código lineal es cíclico podemos aprovechar la función *find_generator_polynomial* que recibe un código y devuelve su polinomio generador en caso de que sea cíclico o un error en caso contrario. Veamos un primer caso en el que el código lineal no es cíclico y un segundo en el que sí."
   ]
  },
  {
   "cell_type": "code",
   "execution_count": 10,
   "metadata": {},
   "outputs": [
    {
     "data": {
      "text/plain": [
       "[6, 4] linear code over GF(2)"
      ]
     },
     "execution_count": 10,
     "metadata": {},
     "output_type": "execute_result"
    }
   ],
   "source": [
    "F = GF(2)\n",
    "M = matrix(F, [[1, 1, 0, 1, 0, 0],\\\n",
    "               [1, 0, 0, 0, 1, 1],\\\n",
    "               [0, 1, 1, 0, 1, 0],\\\n",
    "               [0, 0, 1, 0, 1, 1]])\n",
    "C = codes.LinearCode(M)\n",
    "C"
   ]
  },
  {
   "cell_type": "code",
   "execution_count": 11,
   "metadata": {},
   "outputs": [
    {
     "ename": "ValueError",
     "evalue": "The code is not cyclic.",
     "output_type": "error",
     "traceback": [
      "\u001b[0;31m---------------------------------------------------------------------------\u001b[0m",
      "\u001b[0;31mValueError\u001b[0m                                Traceback (most recent call last)",
      "\u001b[0;32m<ipython-input-11-ce17df4c8f3c>\u001b[0m in \u001b[0;36m<module>\u001b[0;34m\u001b[0m\n\u001b[0;32m----> 1\u001b[0;31m \u001b[0msage\u001b[0m\u001b[0;34m.\u001b[0m\u001b[0mcoding\u001b[0m\u001b[0;34m.\u001b[0m\u001b[0mcyclic_code\u001b[0m\u001b[0;34m.\u001b[0m\u001b[0mfind_generator_polynomial\u001b[0m\u001b[0;34m(\u001b[0m\u001b[0mcode\u001b[0m\u001b[0;34m=\u001b[0m\u001b[0mC\u001b[0m\u001b[0;34m)\u001b[0m\u001b[0;34m\u001b[0m\u001b[0;34m\u001b[0m\u001b[0m\n\u001b[0m",
      "\u001b[0;32m~/sage/local/lib/python3.9/site-packages/sage/coding/cyclic_code.py\u001b[0m in \u001b[0;36mfind_generator_polynomial\u001b[0;34m(code, check)\u001b[0m\n\u001b[1;32m    101\u001b[0m         \u001b[0mk\u001b[0m \u001b[0;34m=\u001b[0m \u001b[0mcode\u001b[0m\u001b[0;34m.\u001b[0m\u001b[0mdimension\u001b[0m\u001b[0;34m(\u001b[0m\u001b[0;34m)\u001b[0m\u001b[0;34m\u001b[0m\u001b[0;34m\u001b[0m\u001b[0m\n\u001b[1;32m    102\u001b[0m         \u001b[0;32mif\u001b[0m \u001b[0;34m(\u001b[0m\u001b[0mg\u001b[0m\u001b[0;34m.\u001b[0m\u001b[0mdegree\u001b[0m\u001b[0;34m(\u001b[0m\u001b[0;34m)\u001b[0m \u001b[0;34m!=\u001b[0m \u001b[0mn\u001b[0m \u001b[0;34m-\u001b[0m \u001b[0mk\u001b[0m\u001b[0;34m)\u001b[0m\u001b[0;34m:\u001b[0m\u001b[0;34m\u001b[0m\u001b[0;34m\u001b[0m\u001b[0m\n\u001b[0;32m--> 103\u001b[0;31m             \u001b[0;32mraise\u001b[0m \u001b[0mValueError\u001b[0m\u001b[0;34m(\u001b[0m\u001b[0;34m\"The code is not cyclic.\"\u001b[0m\u001b[0;34m)\u001b[0m\u001b[0;34m\u001b[0m\u001b[0;34m\u001b[0m\u001b[0m\n\u001b[0m\u001b[1;32m    104\u001b[0m         \u001b[0mc\u001b[0m \u001b[0;34m=\u001b[0m \u001b[0m_to_complete_list\u001b[0m\u001b[0;34m(\u001b[0m\u001b[0mg\u001b[0m\u001b[0;34m,\u001b[0m \u001b[0mn\u001b[0m\u001b[0;34m)\u001b[0m\u001b[0;34m\u001b[0m\u001b[0;34m\u001b[0m\u001b[0m\n\u001b[1;32m    105\u001b[0m         \u001b[0;32mif\u001b[0m \u001b[0many\u001b[0m\u001b[0;34m(\u001b[0m\u001b[0mvector\u001b[0m\u001b[0;34m(\u001b[0m\u001b[0mc\u001b[0m\u001b[0;34m[\u001b[0m\u001b[0mi\u001b[0m\u001b[0;34m:\u001b[0m\u001b[0;34m]\u001b[0m \u001b[0;34m+\u001b[0m \u001b[0mc\u001b[0m\u001b[0;34m[\u001b[0m\u001b[0;34m:\u001b[0m\u001b[0mi\u001b[0m\u001b[0;34m]\u001b[0m\u001b[0;34m)\u001b[0m \u001b[0;32mnot\u001b[0m \u001b[0;32min\u001b[0m \u001b[0mcode\u001b[0m \u001b[0;32mfor\u001b[0m \u001b[0mi\u001b[0m \u001b[0;32min\u001b[0m \u001b[0mrange\u001b[0m\u001b[0;34m(\u001b[0m\u001b[0mn\u001b[0m\u001b[0;34m)\u001b[0m\u001b[0;34m)\u001b[0m\u001b[0;34m:\u001b[0m\u001b[0;34m\u001b[0m\u001b[0;34m\u001b[0m\u001b[0m\n",
      "\u001b[0;31mValueError\u001b[0m: The code is not cyclic."
     ]
    }
   ],
   "source": [
    "sage.coding.cyclic_code.find_generator_polynomial(code=C) # Obtendremos un error por no ser C cíclico"
   ]
  },
  {
   "cell_type": "code",
   "execution_count": 12,
   "metadata": {},
   "outputs": [
    {
     "data": {
      "text/plain": [
       "[5, 2] linear code over GF(11)"
      ]
     },
     "execution_count": 12,
     "metadata": {},
     "output_type": "execute_result"
    }
   ],
   "source": [
    "F = GF(11)\n",
    "M = matrix(F, [[2, 9, 6, 1, 0],\\\n",
    "               [0, 2, 9, 6, 1]])\n",
    "C = codes.LinearCode(M)\n",
    "C"
   ]
  },
  {
   "cell_type": "code",
   "execution_count": 13,
   "metadata": {},
   "outputs": [
    {
     "data": {
      "text/plain": [
       "x^3 + 6*x^2 + 9*x + 2"
      ]
     },
     "execution_count": 13,
     "metadata": {},
     "output_type": "execute_result"
    }
   ],
   "source": [
    "sage.coding.cyclic_code.find_generator_polynomial(code=C)"
   ]
  },
  {
   "cell_type": "code",
   "execution_count": 14,
   "metadata": {},
   "outputs": [
    {
     "data": {
      "text/plain": [
       "[5, 2] Cyclic Code over GF(11)"
      ]
     },
     "execution_count": 14,
     "metadata": {},
     "output_type": "execute_result"
    }
   ],
   "source": [
    "Cc = codes.CyclicCode(code=C)\n",
    "Cc"
   ]
  },
  {
   "cell_type": "code",
   "execution_count": 15,
   "metadata": {},
   "outputs": [
    {
     "data": {
      "text/plain": [
       "x^3 + 6*x^2 + 9*x + 2"
      ]
     },
     "execution_count": 15,
     "metadata": {},
     "output_type": "execute_result"
    }
   ],
   "source": [
    "Cc.generator_polynomial()"
   ]
  },
  {
   "cell_type": "markdown",
   "metadata": {},
   "source": [
    "### Matriz generadora"
   ]
  },
  {
   "cell_type": "markdown",
   "metadata": {},
   "source": [
    "Los códigos cíclicos son códigos lineales, luego también admiten una matriz generadora. Si el polinomio generador de un código cíclico $\\mathcal{C}$ es $g(x)=g_0 + g_1x + \\cdots + g_rx^r$ de grado $r$, entonces, una matriz generadora suya es:\n",
    "\n",
    "$$G = \\begin{pmatrix}\n",
    "    g_0 & g_1 & g_2 & \\dots & g_r & 0 & 0 & \\dots & 0\\\\\n",
    "    0 & g_0 & g_1 & g_2 & \\dots & g_r & 0 & \\dots & 0\\\\\n",
    "    0 & 0 & g_0 & g_1 & g_2 & \\dots & g_r & \\ddots & \\vdots\\\\\n",
    "    \\vdots & \\vdots & \\ddots & \\ddots & \\ddots & \\ddots & & \\ddots & 0\\\\\n",
    "    0 & 0 & \\dots & 0 & g_0 & g_1 & g_2 & \\dots & g_r\n",
    "\\end{pmatrix}$$"
   ]
  },
  {
   "cell_type": "code",
   "execution_count": 16,
   "metadata": {},
   "outputs": [
    {
     "data": {
      "text/plain": [
       "[6, 3] Cyclic Code over GF(7)"
      ]
     },
     "execution_count": 16,
     "metadata": {},
     "output_type": "execute_result"
    }
   ],
   "source": [
    "n = 6\n",
    "F.<x> = GF(7)[]\n",
    "g = x^3 + 4*x^2 + 6*x + 3\n",
    "C = codes.CyclicCode(generator_pol=g, length=n)\n",
    "C"
   ]
  },
  {
   "cell_type": "code",
   "execution_count": 17,
   "metadata": {},
   "outputs": [
    {
     "data": {
      "text/plain": [
       "x^3 + 4*x^2 + 6*x + 3"
      ]
     },
     "execution_count": 17,
     "metadata": {},
     "output_type": "execute_result"
    }
   ],
   "source": [
    "C.generator_polynomial()"
   ]
  },
  {
   "cell_type": "code",
   "execution_count": 18,
   "metadata": {},
   "outputs": [
    {
     "data": {
      "text/plain": [
       "[3 6 4 1 0 0]\n",
       "[0 3 6 4 1 0]\n",
       "[0 0 3 6 4 1]"
      ]
     },
     "execution_count": 18,
     "metadata": {},
     "output_type": "execute_result"
    }
   ],
   "source": [
    "C.generator_matrix()"
   ]
  },
  {
   "cell_type": "markdown",
   "metadata": {},
   "source": [
    "### Polinomio de paridad"
   ]
  },
  {
   "cell_type": "markdown",
   "metadata": {},
   "source": [
    "Dado un $[n,k]_q$-código cíclico $\\mathcal{C}$ con polinomio generador $g(x)$, sabemos que $g(x) | x^n-1$, de modo que existe $h(x) \\in R_n$ tal que $x^n-1 = g(x)h(x)$. A dicho polinomio $h(x)$ lo llamamos polinomio de paridad de $\\mathcal{C}$."
   ]
  },
  {
   "cell_type": "markdown",
   "metadata": {},
   "source": [
    "Podemos obtener el polinomio de paridad de un código cíclico mediante el método *check_polynomial*."
   ]
  },
  {
   "cell_type": "code",
   "execution_count": 19,
   "metadata": {},
   "outputs": [
    {
     "data": {
      "text/plain": [
       "x^3 + 3*x^2 + 3*x + 2"
      ]
     },
     "execution_count": 19,
     "metadata": {},
     "output_type": "execute_result"
    }
   ],
   "source": [
    "h = C.check_polynomial(); h"
   ]
  },
  {
   "cell_type": "code",
   "execution_count": 20,
   "metadata": {},
   "outputs": [
    {
     "data": {
      "text/plain": [
       "True"
      ]
     },
     "execution_count": 20,
     "metadata": {},
     "output_type": "execute_result"
    }
   ],
   "source": [
    "g*h == x^n-1"
   ]
  },
  {
   "cell_type": "markdown",
   "metadata": {},
   "source": [
    "### Matriz de paridad"
   ]
  },
  {
   "cell_type": "markdown",
   "metadata": {},
   "source": [
    "Los códigos cíclicos, como códigos lineales que son, también admiten una matriz de paridad. Si el polinomio de paridad de un $[n,k]_q$-código cíclico es $h(x)=h_0 + h_1x + \\cdots + h_kx^k$, entonces una matriz de paridad de $\\mathcal{C}$ es:\n",
    "\n",
    "$$H=\\begin{pmatrix}\n",
    "    h_{k} & h_{k-1} & h_{k-2} & \\dots & h_0 & 0 & 0 & \\dots & 0\\\\\n",
    "    0 & h_{k} & h_{k-1} & h_{k-2} & \\dots & h_0 & 0 & \\dots & 0\\\\\n",
    "    0 & 0 & h_{k} & h_{k-1} & h_{k-2} & \\dots & h_0 & \\ddots & \\vdots\\\\\n",
    "    \\vdots & \\vdots & \\ddots & \\ddots & \\ddots & \\ddots & & \\ddots & 0\\\\\n",
    "    0 & 0 & \\dots & 0 & h_{k} & h_{k-1} & h_{k-2} & \\dots & h_0\n",
    "    \\end{pmatrix}$$"
   ]
  },
  {
   "cell_type": "code",
   "execution_count": 21,
   "metadata": {},
   "outputs": [
    {
     "data": {
      "text/plain": [
       "x^3 + 3*x^2 + 3*x + 2"
      ]
     },
     "execution_count": 21,
     "metadata": {},
     "output_type": "execute_result"
    }
   ],
   "source": [
    "C.check_polynomial()"
   ]
  },
  {
   "cell_type": "code",
   "execution_count": 22,
   "metadata": {
    "scrolled": true
   },
   "outputs": [
    {
     "data": {
      "text/plain": [
       "[1 3 3 2 0 0]\n",
       "[0 1 3 3 2 0]\n",
       "[0 0 1 3 3 2]"
      ]
     },
     "execution_count": 22,
     "metadata": {},
     "output_type": "execute_result"
    }
   ],
   "source": [
    "C.parity_check_matrix()"
   ]
  },
  {
   "cell_type": "markdown",
   "metadata": {},
   "source": [
    "### Codificación"
   ]
  },
  {
   "cell_type": "markdown",
   "metadata": {},
   "source": [
    "Para los códigos cíclicos, la tarea de codificación la podemos realizar con la representación polinomial. Dado un $[n,k]_q$-código cíclico $\\mathcal{C}$ con polinomio generador $g(x)$, la palabra código asociada a un polinomio \n",
    "$$a(x)=a_0+a_1x+\\cdots+a_kx^k$$\n",
    "será \n",
    "$$c(x)=a(x)g(x)\\in \\mathcal{C}.$$"
   ]
  },
  {
   "cell_type": "code",
   "execution_count": 23,
   "metadata": {},
   "outputs": [
    {
     "data": {
      "text/plain": [
       "[9, 6] Cyclic Code over GF(2)"
      ]
     },
     "execution_count": 23,
     "metadata": {},
     "output_type": "execute_result"
    }
   ],
   "source": [
    "n = 9\n",
    "F.<x> = GF(2)[]\n",
    "g = x^3 + 1\n",
    "C = codes.CyclicCode(generator_pol=g, length=n)\n",
    "C"
   ]
  },
  {
   "cell_type": "code",
   "execution_count": 24,
   "metadata": {},
   "outputs": [
    {
     "data": {
      "text/plain": [
       "Polynomial-style encoder for [9, 6] Cyclic Code over GF(2)"
      ]
     },
     "execution_count": 24,
     "metadata": {},
     "output_type": "execute_result"
    }
   ],
   "source": [
    "E = codes.encoders.CyclicCodePolynomialEncoder(C); E"
   ]
  },
  {
   "cell_type": "code",
   "execution_count": 25,
   "metadata": {},
   "outputs": [
    {
     "data": {
      "text/plain": [
       "x^5 + x^3 + 1"
      ]
     },
     "execution_count": 25,
     "metadata": {},
     "output_type": "execute_result"
    }
   ],
   "source": [
    "a = x^5+x^3+1; a"
   ]
  },
  {
   "cell_type": "code",
   "execution_count": 26,
   "metadata": {},
   "outputs": [
    {
     "data": {
      "text/plain": [
       "[1, 0, 0, 0, 0, 1, 1, 0, 1]"
      ]
     },
     "execution_count": 26,
     "metadata": {},
     "output_type": "execute_result"
    }
   ],
   "source": [
    "(a*g).list()"
   ]
  },
  {
   "cell_type": "code",
   "execution_count": 27,
   "metadata": {},
   "outputs": [
    {
     "data": {
      "text/plain": [
       "(1, 0, 0, 0, 0, 1, 1, 0, 1)"
      ]
     },
     "execution_count": 27,
     "metadata": {},
     "output_type": "execute_result"
    }
   ],
   "source": [
    "c = E.encode(a); c"
   ]
  },
  {
   "cell_type": "code",
   "execution_count": 28,
   "metadata": {},
   "outputs": [
    {
     "data": {
      "text/plain": [
       "x^5 + x^3 + 1"
      ]
     },
     "execution_count": 28,
     "metadata": {},
     "output_type": "execute_result"
    }
   ],
   "source": [
    "E.unencode_nocheck(c)"
   ]
  },
  {
   "cell_type": "markdown",
   "metadata": {},
   "source": [
    "Cabe notar que la tarea de decodificación, entendida como la corrección de errores buscando la palabra código más cercana, se puede realizar con el decodificador *codes.decoders.LinearCodeNearestNeighborDecoder* de la misma forma que se explica en el cuaderno de códigos lineales."
   ]
  },
  {
   "cell_type": "markdown",
   "metadata": {},
   "source": [
    "Para la realización de este cuaderno se ha hecho uso de la documentación de SageMath sobre códigos cíclicos accesible en:\n",
    "\n",
    "https://doc.sagemath.org/html/en/reference/coding/sage/coding/cyclic_code.html."
   ]
  }
 ],
 "metadata": {
  "kernelspec": {
   "display_name": "SageMath 9.4",
   "language": "sage",
   "name": "sagemath"
  },
  "language_info": {
   "codemirror_mode": {
    "name": "ipython",
    "version": 3
   },
   "file_extension": ".py",
   "mimetype": "text/x-python",
   "name": "python",
   "nbconvert_exporter": "python",
   "pygments_lexer": "ipython3",
   "version": "3.9.5"
  }
 },
 "nbformat": 4,
 "nbformat_minor": 4
}
